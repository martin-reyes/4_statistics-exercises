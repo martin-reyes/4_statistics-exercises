{
 "cells": [
  {
   "cell_type": "code",
   "execution_count": 3,
   "id": "721f5a06",
   "metadata": {},
   "outputs": [],
   "source": [
    "import numpy as np\n",
    "import pandas as pd"
   ]
  },
  {
   "cell_type": "markdown",
   "id": "ce8b9f3b",
   "metadata": {},
   "source": [
    "1. How likely is it that you roll doubles when rolling two dice? **1/6, but let's simulate**"
   ]
  },
  {
   "cell_type": "code",
   "execution_count": 5,
   "id": "627f1c75",
   "metadata": {},
   "outputs": [
    {
     "data": {
      "text/plain": [
       "array([[2, 1],\n",
       "       [3, 6],\n",
       "       [1, 6],\n",
       "       ...,\n",
       "       [4, 3],\n",
       "       [4, 6],\n",
       "       [3, 2]])"
      ]
     },
     "execution_count": 5,
     "metadata": {},
     "output_type": "execute_result"
    }
   ],
   "source": [
    "# array of 20,000 dice rolls\n",
    "n_trials = 20_000\n",
    "n_dice = 2\n",
    "outcomes = [1, 2, 3, 4, 5, 6]\n",
    "rolls = np.random.choice(outcomes,(n_trials, n_dice))\n",
    "rolls"
   ]
  },
  {
   "cell_type": "code",
   "execution_count": 6,
   "id": "56d02119",
   "metadata": {},
   "outputs": [
    {
     "data": {
      "text/html": [
       "<div>\n",
       "<style scoped>\n",
       "    .dataframe tbody tr th:only-of-type {\n",
       "        vertical-align: middle;\n",
       "    }\n",
       "\n",
       "    .dataframe tbody tr th {\n",
       "        vertical-align: top;\n",
       "    }\n",
       "\n",
       "    .dataframe thead th {\n",
       "        text-align: right;\n",
       "    }\n",
       "</style>\n",
       "<table border=\"1\" class=\"dataframe\">\n",
       "  <thead>\n",
       "    <tr style=\"text-align: right;\">\n",
       "      <th></th>\n",
       "      <th>0</th>\n",
       "      <th>1</th>\n",
       "    </tr>\n",
       "  </thead>\n",
       "  <tbody>\n",
       "    <tr>\n",
       "      <th>0</th>\n",
       "      <td>2</td>\n",
       "      <td>1</td>\n",
       "    </tr>\n",
       "    <tr>\n",
       "      <th>1</th>\n",
       "      <td>3</td>\n",
       "      <td>6</td>\n",
       "    </tr>\n",
       "    <tr>\n",
       "      <th>2</th>\n",
       "      <td>1</td>\n",
       "      <td>6</td>\n",
       "    </tr>\n",
       "    <tr>\n",
       "      <th>3</th>\n",
       "      <td>6</td>\n",
       "      <td>4</td>\n",
       "    </tr>\n",
       "    <tr>\n",
       "      <th>4</th>\n",
       "      <td>3</td>\n",
       "      <td>1</td>\n",
       "    </tr>\n",
       "  </tbody>\n",
       "</table>\n",
       "</div>"
      ],
      "text/plain": [
       "   0  1\n",
       "0  2  1\n",
       "1  3  6\n",
       "2  1  6\n",
       "3  6  4\n",
       "4  3  1"
      ]
     },
     "execution_count": 6,
     "metadata": {},
     "output_type": "execute_result"
    }
   ],
   "source": [
    "# store rolls into df\n",
    "rolls_df = pd.DataFrame(rolls)\n",
    "rolls_df.head()"
   ]
  },
  {
   "cell_type": "code",
   "execution_count": 7,
   "id": "8a61113c",
   "metadata": {},
   "outputs": [],
   "source": [
    "# create 'doubles' column that indicates if rolls ended up being doubles\n",
    "rolls_df['doubles'] = rolls_df[0] == rolls_df[1]"
   ]
  },
  {
   "cell_type": "code",
   "execution_count": 8,
   "id": "a2f93fe1",
   "metadata": {},
   "outputs": [
    {
     "data": {
      "text/html": [
       "<div>\n",
       "<style scoped>\n",
       "    .dataframe tbody tr th:only-of-type {\n",
       "        vertical-align: middle;\n",
       "    }\n",
       "\n",
       "    .dataframe tbody tr th {\n",
       "        vertical-align: top;\n",
       "    }\n",
       "\n",
       "    .dataframe thead th {\n",
       "        text-align: right;\n",
       "    }\n",
       "</style>\n",
       "<table border=\"1\" class=\"dataframe\">\n",
       "  <thead>\n",
       "    <tr style=\"text-align: right;\">\n",
       "      <th></th>\n",
       "      <th>0</th>\n",
       "      <th>1</th>\n",
       "      <th>doubles</th>\n",
       "    </tr>\n",
       "  </thead>\n",
       "  <tbody>\n",
       "    <tr>\n",
       "      <th>0</th>\n",
       "      <td>2</td>\n",
       "      <td>1</td>\n",
       "      <td>False</td>\n",
       "    </tr>\n",
       "    <tr>\n",
       "      <th>1</th>\n",
       "      <td>3</td>\n",
       "      <td>6</td>\n",
       "      <td>False</td>\n",
       "    </tr>\n",
       "    <tr>\n",
       "      <th>2</th>\n",
       "      <td>1</td>\n",
       "      <td>6</td>\n",
       "      <td>False</td>\n",
       "    </tr>\n",
       "    <tr>\n",
       "      <th>3</th>\n",
       "      <td>6</td>\n",
       "      <td>4</td>\n",
       "      <td>False</td>\n",
       "    </tr>\n",
       "    <tr>\n",
       "      <th>4</th>\n",
       "      <td>3</td>\n",
       "      <td>1</td>\n",
       "      <td>False</td>\n",
       "    </tr>\n",
       "    <tr>\n",
       "      <th>5</th>\n",
       "      <td>2</td>\n",
       "      <td>1</td>\n",
       "      <td>False</td>\n",
       "    </tr>\n",
       "    <tr>\n",
       "      <th>6</th>\n",
       "      <td>6</td>\n",
       "      <td>1</td>\n",
       "      <td>False</td>\n",
       "    </tr>\n",
       "    <tr>\n",
       "      <th>7</th>\n",
       "      <td>1</td>\n",
       "      <td>1</td>\n",
       "      <td>True</td>\n",
       "    </tr>\n",
       "  </tbody>\n",
       "</table>\n",
       "</div>"
      ],
      "text/plain": [
       "   0  1  doubles\n",
       "0  2  1    False\n",
       "1  3  6    False\n",
       "2  1  6    False\n",
       "3  6  4    False\n",
       "4  3  1    False\n",
       "5  2  1    False\n",
       "6  6  1    False\n",
       "7  1  1     True"
      ]
     },
     "execution_count": 8,
     "metadata": {},
     "output_type": "execute_result"
    }
   ],
   "source": [
    "# verify\n",
    "rolls_df.head(8)"
   ]
  },
  {
   "cell_type": "code",
   "execution_count": 9,
   "id": "a3ee1933",
   "metadata": {},
   "outputs": [
    {
     "data": {
      "text/plain": [
       "0.165"
      ]
     },
     "execution_count": 9,
     "metadata": {},
     "output_type": "execute_result"
    }
   ],
   "source": [
    "# mean of this column is close to the true probability\n",
    "rolls_df['doubles'].mean()"
   ]
  },
  {
   "cell_type": "markdown",
   "id": "7721aef1",
   "metadata": {},
   "source": [
    "2. If you flip 8 coins, what is the probability of getting exactly 3 heads? What is the probability of getting more than 3 heads?"
   ]
  },
  {
   "cell_type": "code",
   "execution_count": 10,
   "id": "33fa0277",
   "metadata": {},
   "outputs": [
    {
     "data": {
      "text/plain": [
       "array([['H', 'H', 'H', ..., 'H', 'T', 'T'],\n",
       "       ['H', 'T', 'H', ..., 'H', 'H', 'H'],\n",
       "       ['H', 'H', 'H', ..., 'H', 'H', 'H'],\n",
       "       ...,\n",
       "       ['H', 'H', 'T', ..., 'T', 'H', 'H'],\n",
       "       ['H', 'T', 'T', ..., 'T', 'H', 'H'],\n",
       "       ['T', 'H', 'T', ..., 'T', 'H', 'T']], dtype='<U1')"
      ]
     },
     "execution_count": 10,
     "metadata": {},
     "output_type": "execute_result"
    }
   ],
   "source": [
    "# array of 20,000 dice rolls\n",
    "n_trials = 20_000\n",
    "n_coins = 8\n",
    "outcomes = ['T', 'H']\n",
    "# choose one of 3 outcomes, n_trials x n_coins array\n",
    "flips = np.random.choice(outcomes,(n_trials, n_coins))\n",
    "flips"
   ]
  },
  {
   "cell_type": "code",
   "execution_count": 11,
   "id": "74aae960",
   "metadata": {},
   "outputs": [
    {
     "data": {
      "text/html": [
       "<div>\n",
       "<style scoped>\n",
       "    .dataframe tbody tr th:only-of-type {\n",
       "        vertical-align: middle;\n",
       "    }\n",
       "\n",
       "    .dataframe tbody tr th {\n",
       "        vertical-align: top;\n",
       "    }\n",
       "\n",
       "    .dataframe thead th {\n",
       "        text-align: right;\n",
       "    }\n",
       "</style>\n",
       "<table border=\"1\" class=\"dataframe\">\n",
       "  <thead>\n",
       "    <tr style=\"text-align: right;\">\n",
       "      <th></th>\n",
       "      <th>0</th>\n",
       "      <th>1</th>\n",
       "      <th>2</th>\n",
       "      <th>3</th>\n",
       "      <th>4</th>\n",
       "      <th>5</th>\n",
       "      <th>6</th>\n",
       "      <th>7</th>\n",
       "    </tr>\n",
       "  </thead>\n",
       "  <tbody>\n",
       "    <tr>\n",
       "      <th>0</th>\n",
       "      <td>H</td>\n",
       "      <td>H</td>\n",
       "      <td>H</td>\n",
       "      <td>T</td>\n",
       "      <td>H</td>\n",
       "      <td>H</td>\n",
       "      <td>T</td>\n",
       "      <td>T</td>\n",
       "    </tr>\n",
       "    <tr>\n",
       "      <th>1</th>\n",
       "      <td>H</td>\n",
       "      <td>T</td>\n",
       "      <td>H</td>\n",
       "      <td>T</td>\n",
       "      <td>T</td>\n",
       "      <td>H</td>\n",
       "      <td>H</td>\n",
       "      <td>H</td>\n",
       "    </tr>\n",
       "    <tr>\n",
       "      <th>2</th>\n",
       "      <td>H</td>\n",
       "      <td>H</td>\n",
       "      <td>H</td>\n",
       "      <td>H</td>\n",
       "      <td>H</td>\n",
       "      <td>H</td>\n",
       "      <td>H</td>\n",
       "      <td>H</td>\n",
       "    </tr>\n",
       "    <tr>\n",
       "      <th>3</th>\n",
       "      <td>T</td>\n",
       "      <td>H</td>\n",
       "      <td>T</td>\n",
       "      <td>T</td>\n",
       "      <td>H</td>\n",
       "      <td>H</td>\n",
       "      <td>T</td>\n",
       "      <td>H</td>\n",
       "    </tr>\n",
       "    <tr>\n",
       "      <th>4</th>\n",
       "      <td>T</td>\n",
       "      <td>H</td>\n",
       "      <td>T</td>\n",
       "      <td>H</td>\n",
       "      <td>T</td>\n",
       "      <td>T</td>\n",
       "      <td>T</td>\n",
       "      <td>T</td>\n",
       "    </tr>\n",
       "  </tbody>\n",
       "</table>\n",
       "</div>"
      ],
      "text/plain": [
       "   0  1  2  3  4  5  6  7\n",
       "0  H  H  H  T  H  H  T  T\n",
       "1  H  T  H  T  T  H  H  H\n",
       "2  H  H  H  H  H  H  H  H\n",
       "3  T  H  T  T  H  H  T  H\n",
       "4  T  H  T  H  T  T  T  T"
      ]
     },
     "execution_count": 11,
     "metadata": {},
     "output_type": "execute_result"
    }
   ],
   "source": [
    "# store rolls into df\n",
    "flips_df = pd.DataFrame(flips)\n",
    "flips_df.head()"
   ]
  },
  {
   "cell_type": "code",
   "execution_count": 25,
   "id": "447de3f3",
   "metadata": {},
   "outputs": [],
   "source": [
    "flips_df['three_heads'] = flips_df.apply(lambda row: (row == 'H').sum() == 3, axis=1)"
   ]
  },
  {
   "cell_type": "markdown",
   "id": "90774488",
   "metadata": {},
   "source": [
    "Verify"
   ]
  },
  {
   "cell_type": "code",
   "execution_count": 26,
   "id": "1b1d90ce",
   "metadata": {},
   "outputs": [
    {
     "data": {
      "text/html": [
       "<div>\n",
       "<style scoped>\n",
       "    .dataframe tbody tr th:only-of-type {\n",
       "        vertical-align: middle;\n",
       "    }\n",
       "\n",
       "    .dataframe tbody tr th {\n",
       "        vertical-align: top;\n",
       "    }\n",
       "\n",
       "    .dataframe thead th {\n",
       "        text-align: right;\n",
       "    }\n",
       "</style>\n",
       "<table border=\"1\" class=\"dataframe\">\n",
       "  <thead>\n",
       "    <tr style=\"text-align: right;\">\n",
       "      <th></th>\n",
       "      <th>0</th>\n",
       "      <th>1</th>\n",
       "      <th>2</th>\n",
       "      <th>3</th>\n",
       "      <th>4</th>\n",
       "      <th>5</th>\n",
       "      <th>6</th>\n",
       "      <th>7</th>\n",
       "      <th>three_heads</th>\n",
       "    </tr>\n",
       "  </thead>\n",
       "  <tbody>\n",
       "    <tr>\n",
       "      <th>19991</th>\n",
       "      <td>H</td>\n",
       "      <td>T</td>\n",
       "      <td>H</td>\n",
       "      <td>T</td>\n",
       "      <td>T</td>\n",
       "      <td>H</td>\n",
       "      <td>H</td>\n",
       "      <td>T</td>\n",
       "      <td>False</td>\n",
       "    </tr>\n",
       "    <tr>\n",
       "      <th>19992</th>\n",
       "      <td>T</td>\n",
       "      <td>H</td>\n",
       "      <td>T</td>\n",
       "      <td>H</td>\n",
       "      <td>H</td>\n",
       "      <td>T</td>\n",
       "      <td>T</td>\n",
       "      <td>T</td>\n",
       "      <td>True</td>\n",
       "    </tr>\n",
       "    <tr>\n",
       "      <th>19993</th>\n",
       "      <td>H</td>\n",
       "      <td>T</td>\n",
       "      <td>T</td>\n",
       "      <td>H</td>\n",
       "      <td>H</td>\n",
       "      <td>T</td>\n",
       "      <td>H</td>\n",
       "      <td>T</td>\n",
       "      <td>False</td>\n",
       "    </tr>\n",
       "    <tr>\n",
       "      <th>19994</th>\n",
       "      <td>H</td>\n",
       "      <td>H</td>\n",
       "      <td>H</td>\n",
       "      <td>T</td>\n",
       "      <td>H</td>\n",
       "      <td>T</td>\n",
       "      <td>H</td>\n",
       "      <td>H</td>\n",
       "      <td>False</td>\n",
       "    </tr>\n",
       "    <tr>\n",
       "      <th>19995</th>\n",
       "      <td>H</td>\n",
       "      <td>T</td>\n",
       "      <td>H</td>\n",
       "      <td>T</td>\n",
       "      <td>T</td>\n",
       "      <td>H</td>\n",
       "      <td>T</td>\n",
       "      <td>H</td>\n",
       "      <td>False</td>\n",
       "    </tr>\n",
       "    <tr>\n",
       "      <th>19996</th>\n",
       "      <td>T</td>\n",
       "      <td>T</td>\n",
       "      <td>H</td>\n",
       "      <td>T</td>\n",
       "      <td>T</td>\n",
       "      <td>T</td>\n",
       "      <td>H</td>\n",
       "      <td>H</td>\n",
       "      <td>True</td>\n",
       "    </tr>\n",
       "    <tr>\n",
       "      <th>19997</th>\n",
       "      <td>H</td>\n",
       "      <td>H</td>\n",
       "      <td>T</td>\n",
       "      <td>T</td>\n",
       "      <td>H</td>\n",
       "      <td>T</td>\n",
       "      <td>H</td>\n",
       "      <td>H</td>\n",
       "      <td>False</td>\n",
       "    </tr>\n",
       "    <tr>\n",
       "      <th>19998</th>\n",
       "      <td>H</td>\n",
       "      <td>T</td>\n",
       "      <td>T</td>\n",
       "      <td>T</td>\n",
       "      <td>T</td>\n",
       "      <td>T</td>\n",
       "      <td>H</td>\n",
       "      <td>H</td>\n",
       "      <td>True</td>\n",
       "    </tr>\n",
       "    <tr>\n",
       "      <th>19999</th>\n",
       "      <td>T</td>\n",
       "      <td>H</td>\n",
       "      <td>T</td>\n",
       "      <td>T</td>\n",
       "      <td>H</td>\n",
       "      <td>T</td>\n",
       "      <td>H</td>\n",
       "      <td>T</td>\n",
       "      <td>True</td>\n",
       "    </tr>\n",
       "  </tbody>\n",
       "</table>\n",
       "</div>"
      ],
      "text/plain": [
       "       0  1  2  3  4  5  6  7  three_heads\n",
       "19991  H  T  H  T  T  H  H  T        False\n",
       "19992  T  H  T  H  H  T  T  T         True\n",
       "19993  H  T  T  H  H  T  H  T        False\n",
       "19994  H  H  H  T  H  T  H  H        False\n",
       "19995  H  T  H  T  T  H  T  H        False\n",
       "19996  T  T  H  T  T  T  H  H         True\n",
       "19997  H  H  T  T  H  T  H  H        False\n",
       "19998  H  T  T  T  T  T  H  H         True\n",
       "19999  T  H  T  T  H  T  H  T         True"
      ]
     },
     "execution_count": 26,
     "metadata": {},
     "output_type": "execute_result"
    }
   ],
   "source": [
    "flips_df.tail(9)"
   ]
  },
  {
   "cell_type": "code",
   "execution_count": 27,
   "id": "8a921dc4",
   "metadata": {},
   "outputs": [
    {
     "data": {
      "text/plain": [
       "0.21"
      ]
     },
     "execution_count": 27,
     "metadata": {},
     "output_type": "execute_result"
    }
   ],
   "source": [
    "# mean of this column is close to the true probability\n",
    "flips_df['three_heads'].mean()"
   ]
  },
  {
   "cell_type": "markdown",
   "id": "1ba58533",
   "metadata": {},
   "source": [
    "3. There are approximitely 3 web development cohorts for every 1 data science cohort at Codeup. Assuming that Codeup randomly selects an alumni to put on a billboard, what are the odds that the two billboards I drive past both have data science students on them?"
   ]
  },
  {
   "cell_type": "code",
   "execution_count": 84,
   "id": "f62ca0c6",
   "metadata": {},
   "outputs": [
    {
     "data": {
      "text/plain": [
       "array([['W', 'D'],\n",
       "       ['W', 'W'],\n",
       "       ['D', 'D'],\n",
       "       ...,\n",
       "       ['W', 'D'],\n",
       "       ['D', 'D'],\n",
       "       ['W', 'W']], dtype='<U1')"
      ]
     },
     "execution_count": 84,
     "metadata": {},
     "output_type": "execute_result"
    }
   ],
   "source": [
    "n_trials = 20_000\n",
    "n_selections = 2\n",
    "\n",
    "n_web_dev_cohorts = 3\n",
    "n_data_cohorts = 1\n",
    "n_cohorts = n_web_dev_cohorts + n_data_cohorts\n",
    "\n",
    "outcomes = ['W', 'D']  # Possible outcomes: 'W' and 'D'\n",
    "probabilities = [ n_web_dev_cohorts / n_cohorts,\n",
    "                  n_data_cohorts / n_cohorts ] \n",
    "                    # Probabilities of getting 'W' and 'D' respectively\n",
    "\n",
    "\n",
    "selections = np.random.choice(outcomes, size=(n_trials, n_selections), p=probabilities)\n",
    "selections"
   ]
  },
  {
   "cell_type": "code",
   "execution_count": 85,
   "id": "72939000",
   "metadata": {},
   "outputs": [
    {
     "data": {
      "text/plain": [
       "array([['D', 'D'],\n",
       "       ['D', 'W'],\n",
       "       ['W', 'D'],\n",
       "       ['W', 'W']], dtype='<U1')"
      ]
     },
     "execution_count": 85,
     "metadata": {},
     "output_type": "execute_result"
    }
   ],
   "source": [
    "np.unique(selections, axis = 0)"
   ]
  },
  {
   "cell_type": "code",
   "execution_count": 88,
   "id": "22220979",
   "metadata": {},
   "outputs": [
    {
     "data": {
      "text/html": [
       "<div>\n",
       "<style scoped>\n",
       "    .dataframe tbody tr th:only-of-type {\n",
       "        vertical-align: middle;\n",
       "    }\n",
       "\n",
       "    .dataframe tbody tr th {\n",
       "        vertical-align: top;\n",
       "    }\n",
       "\n",
       "    .dataframe thead th {\n",
       "        text-align: right;\n",
       "    }\n",
       "</style>\n",
       "<table border=\"1\" class=\"dataframe\">\n",
       "  <thead>\n",
       "    <tr style=\"text-align: right;\">\n",
       "      <th></th>\n",
       "      <th>0</th>\n",
       "      <th>1</th>\n",
       "    </tr>\n",
       "  </thead>\n",
       "  <tbody>\n",
       "    <tr>\n",
       "      <th>19995</th>\n",
       "      <td>W</td>\n",
       "      <td>D</td>\n",
       "    </tr>\n",
       "    <tr>\n",
       "      <th>19996</th>\n",
       "      <td>D</td>\n",
       "      <td>W</td>\n",
       "    </tr>\n",
       "    <tr>\n",
       "      <th>19997</th>\n",
       "      <td>W</td>\n",
       "      <td>D</td>\n",
       "    </tr>\n",
       "    <tr>\n",
       "      <th>19998</th>\n",
       "      <td>D</td>\n",
       "      <td>D</td>\n",
       "    </tr>\n",
       "    <tr>\n",
       "      <th>19999</th>\n",
       "      <td>W</td>\n",
       "      <td>W</td>\n",
       "    </tr>\n",
       "  </tbody>\n",
       "</table>\n",
       "</div>"
      ],
      "text/plain": [
       "       0  1\n",
       "19995  W  D\n",
       "19996  D  W\n",
       "19997  W  D\n",
       "19998  D  D\n",
       "19999  W  W"
      ]
     },
     "execution_count": 88,
     "metadata": {},
     "output_type": "execute_result"
    }
   ],
   "source": [
    "# store rolls into df\n",
    "selections_df = pd.DataFrame(selections)\n",
    "selections_df.tail()"
   ]
  },
  {
   "cell_type": "code",
   "execution_count": 89,
   "id": "b5511c89",
   "metadata": {},
   "outputs": [],
   "source": [
    "selections_df['two_data'] = selections_df.apply(lambda row: (row == 'D').all(), axis=1)"
   ]
  },
  {
   "cell_type": "code",
   "execution_count": 90,
   "id": "8442e7e4",
   "metadata": {},
   "outputs": [
    {
     "data": {
      "text/html": [
       "<div>\n",
       "<style scoped>\n",
       "    .dataframe tbody tr th:only-of-type {\n",
       "        vertical-align: middle;\n",
       "    }\n",
       "\n",
       "    .dataframe tbody tr th {\n",
       "        vertical-align: top;\n",
       "    }\n",
       "\n",
       "    .dataframe thead th {\n",
       "        text-align: right;\n",
       "    }\n",
       "</style>\n",
       "<table border=\"1\" class=\"dataframe\">\n",
       "  <thead>\n",
       "    <tr style=\"text-align: right;\">\n",
       "      <th></th>\n",
       "      <th>0</th>\n",
       "      <th>1</th>\n",
       "      <th>two_data</th>\n",
       "    </tr>\n",
       "  </thead>\n",
       "  <tbody>\n",
       "    <tr>\n",
       "      <th>19995</th>\n",
       "      <td>W</td>\n",
       "      <td>D</td>\n",
       "      <td>False</td>\n",
       "    </tr>\n",
       "    <tr>\n",
       "      <th>19996</th>\n",
       "      <td>D</td>\n",
       "      <td>W</td>\n",
       "      <td>False</td>\n",
       "    </tr>\n",
       "    <tr>\n",
       "      <th>19997</th>\n",
       "      <td>W</td>\n",
       "      <td>D</td>\n",
       "      <td>False</td>\n",
       "    </tr>\n",
       "    <tr>\n",
       "      <th>19998</th>\n",
       "      <td>D</td>\n",
       "      <td>D</td>\n",
       "      <td>True</td>\n",
       "    </tr>\n",
       "    <tr>\n",
       "      <th>19999</th>\n",
       "      <td>W</td>\n",
       "      <td>W</td>\n",
       "      <td>False</td>\n",
       "    </tr>\n",
       "  </tbody>\n",
       "</table>\n",
       "</div>"
      ],
      "text/plain": [
       "       0  1  two_data\n",
       "19995  W  D     False\n",
       "19996  D  W     False\n",
       "19997  W  D     False\n",
       "19998  D  D      True\n",
       "19999  W  W     False"
      ]
     },
     "execution_count": 90,
     "metadata": {},
     "output_type": "execute_result"
    }
   ],
   "source": [
    "selections_df.tail()"
   ]
  },
  {
   "cell_type": "code",
   "execution_count": 82,
   "id": "fa9e9726",
   "metadata": {},
   "outputs": [
    {
     "data": {
      "text/plain": [
       "array([False,  True])"
      ]
     },
     "execution_count": 82,
     "metadata": {},
     "output_type": "execute_result"
    }
   ],
   "source": [
    "selections_df['two_data'].unique()"
   ]
  },
  {
   "cell_type": "code",
   "execution_count": null,
   "id": "76dc875b",
   "metadata": {},
   "outputs": [],
   "source": [
    "z"
   ]
  },
  {
   "cell_type": "code",
   "execution_count": 83,
   "id": "e5cb92a3",
   "metadata": {
    "scrolled": true
   },
   "outputs": [
    {
     "data": {
      "text/plain": [
       "0.0612"
      ]
     },
     "execution_count": 83,
     "metadata": {},
     "output_type": "execute_result"
    }
   ],
   "source": [
    "selections_df['two_data'].mean()"
   ]
  },
  {
   "cell_type": "markdown",
   "id": "683fc84c",
   "metadata": {},
   "source": [
    "This is close to the true probability:"
   ]
  },
  {
   "cell_type": "code",
   "execution_count": 91,
   "id": "eb880722",
   "metadata": {},
   "outputs": [
    {
     "data": {
      "text/plain": [
       "0.0625"
      ]
     },
     "execution_count": 91,
     "metadata": {},
     "output_type": "execute_result"
    }
   ],
   "source": [
    "1/4 * 1/4"
   ]
  },
  {
   "cell_type": "markdown",
   "id": "a9beb706",
   "metadata": {},
   "source": [
    "4. Codeup students buy, on average, 3 poptart packages with a standard deviation of 1.5 a day from the snack vending machine. If on monday the machine is restocked with 17 poptart packages, how likely is it that I will be able to buy some poptarts on Friday afternoon? (Remember, if you have mean and standard deviation, use the np.random.normal) You'll need to make a judgement call on how to handle some of your values"
   ]
  },
  {
   "cell_type": "code",
   "execution_count": 69,
   "id": "05d647ac",
   "metadata": {},
   "outputs": [
    {
     "data": {
      "text/plain": [
       "array([[1.40787007e+00, 3.35195061e+00, 3.86028333e+00, 3.35693688e+00,\n",
       "        2.94153901e+00],\n",
       "       [3.01359178e+00, 2.24917269e+00, 1.88455080e+00, 3.52986101e+00,\n",
       "        1.10500913e-03],\n",
       "       [2.46849199e+00, 2.89945872e+00, 9.25412163e-01, 9.27995649e-01,\n",
       "        2.02517648e+00],\n",
       "       ...,\n",
       "       [2.08370502e+00, 3.19765610e-01, 1.63009191e+00, 2.86315982e+00,\n",
       "        3.05199719e+00],\n",
       "       [9.25212888e-01, 3.23364523e+00, 4.43623772e+00, 2.61010289e+00,\n",
       "        1.26571094e+00],\n",
       "       [4.80204666e+00, 8.82125309e-01, 4.66110448e+00, 3.07846280e+00,\n",
       "        1.11040453e+00]])"
      ]
     },
     "execution_count": 69,
     "metadata": {},
     "output_type": "execute_result"
    }
   ],
   "source": [
    "mu = 3\n",
    "std = 1.5\n",
    "stock = 17\n",
    "n_trials = 50_000\n",
    "\n",
    "weeks = np.random.normal(mu, std, size=(n_trials, 5))\n",
    "weeks"
   ]
  },
  {
   "cell_type": "code",
   "execution_count": 70,
   "id": "30150a4d",
   "metadata": {},
   "outputs": [
    {
     "data": {
      "text/html": [
       "<div>\n",
       "<style scoped>\n",
       "    .dataframe tbody tr th:only-of-type {\n",
       "        vertical-align: middle;\n",
       "    }\n",
       "\n",
       "    .dataframe tbody tr th {\n",
       "        vertical-align: top;\n",
       "    }\n",
       "\n",
       "    .dataframe thead th {\n",
       "        text-align: right;\n",
       "    }\n",
       "</style>\n",
       "<table border=\"1\" class=\"dataframe\">\n",
       "  <thead>\n",
       "    <tr style=\"text-align: right;\">\n",
       "      <th></th>\n",
       "      <th>m</th>\n",
       "      <th>t</th>\n",
       "      <th>w</th>\n",
       "      <th>th</th>\n",
       "      <th>f</th>\n",
       "    </tr>\n",
       "  </thead>\n",
       "  <tbody>\n",
       "    <tr>\n",
       "      <th>0</th>\n",
       "      <td>1.407870</td>\n",
       "      <td>3.351951</td>\n",
       "      <td>3.860283</td>\n",
       "      <td>3.356937</td>\n",
       "      <td>2.941539</td>\n",
       "    </tr>\n",
       "    <tr>\n",
       "      <th>1</th>\n",
       "      <td>3.013592</td>\n",
       "      <td>2.249173</td>\n",
       "      <td>1.884551</td>\n",
       "      <td>3.529861</td>\n",
       "      <td>0.001105</td>\n",
       "    </tr>\n",
       "    <tr>\n",
       "      <th>2</th>\n",
       "      <td>2.468492</td>\n",
       "      <td>2.899459</td>\n",
       "      <td>0.925412</td>\n",
       "      <td>0.927996</td>\n",
       "      <td>2.025176</td>\n",
       "    </tr>\n",
       "    <tr>\n",
       "      <th>3</th>\n",
       "      <td>0.807185</td>\n",
       "      <td>3.690031</td>\n",
       "      <td>5.407825</td>\n",
       "      <td>2.739325</td>\n",
       "      <td>1.714737</td>\n",
       "    </tr>\n",
       "    <tr>\n",
       "      <th>4</th>\n",
       "      <td>2.896334</td>\n",
       "      <td>2.106749</td>\n",
       "      <td>5.256489</td>\n",
       "      <td>1.650856</td>\n",
       "      <td>5.102769</td>\n",
       "    </tr>\n",
       "  </tbody>\n",
       "</table>\n",
       "</div>"
      ],
      "text/plain": [
       "          m         t         w        th         f\n",
       "0  1.407870  3.351951  3.860283  3.356937  2.941539\n",
       "1  3.013592  2.249173  1.884551  3.529861  0.001105\n",
       "2  2.468492  2.899459  0.925412  0.927996  2.025176\n",
       "3  0.807185  3.690031  5.407825  2.739325  1.714737\n",
       "4  2.896334  2.106749  5.256489  1.650856  5.102769"
      ]
     },
     "execution_count": 70,
     "metadata": {},
     "output_type": "execute_result"
    }
   ],
   "source": [
    "weeks_df = pd.DataFrame(weeks, columns=['m','t','w','th', 'f'])\n",
    "weeks_df.head()"
   ]
  },
  {
   "cell_type": "code",
   "execution_count": 71,
   "id": "6aff1c89",
   "metadata": {},
   "outputs": [
    {
     "data": {
      "text/html": [
       "<div>\n",
       "<style scoped>\n",
       "    .dataframe tbody tr th:only-of-type {\n",
       "        vertical-align: middle;\n",
       "    }\n",
       "\n",
       "    .dataframe tbody tr th {\n",
       "        vertical-align: top;\n",
       "    }\n",
       "\n",
       "    .dataframe thead th {\n",
       "        text-align: right;\n",
       "    }\n",
       "</style>\n",
       "<table border=\"1\" class=\"dataframe\">\n",
       "  <thead>\n",
       "    <tr style=\"text-align: right;\">\n",
       "      <th></th>\n",
       "      <th>m</th>\n",
       "      <th>t</th>\n",
       "      <th>w</th>\n",
       "      <th>th</th>\n",
       "      <th>f</th>\n",
       "    </tr>\n",
       "  </thead>\n",
       "  <tbody>\n",
       "    <tr>\n",
       "      <th>0</th>\n",
       "      <td>1.407870</td>\n",
       "      <td>3.351951</td>\n",
       "      <td>3.860283</td>\n",
       "      <td>3.356937</td>\n",
       "      <td>2.941539</td>\n",
       "    </tr>\n",
       "    <tr>\n",
       "      <th>1</th>\n",
       "      <td>3.013592</td>\n",
       "      <td>2.249173</td>\n",
       "      <td>1.884551</td>\n",
       "      <td>3.529861</td>\n",
       "      <td>0.001105</td>\n",
       "    </tr>\n",
       "    <tr>\n",
       "      <th>2</th>\n",
       "      <td>2.468492</td>\n",
       "      <td>2.899459</td>\n",
       "      <td>0.925412</td>\n",
       "      <td>0.927996</td>\n",
       "      <td>2.025176</td>\n",
       "    </tr>\n",
       "    <tr>\n",
       "      <th>3</th>\n",
       "      <td>0.807185</td>\n",
       "      <td>3.690031</td>\n",
       "      <td>5.407825</td>\n",
       "      <td>2.739325</td>\n",
       "      <td>1.714737</td>\n",
       "    </tr>\n",
       "    <tr>\n",
       "      <th>4</th>\n",
       "      <td>2.896334</td>\n",
       "      <td>2.106749</td>\n",
       "      <td>5.256489</td>\n",
       "      <td>1.650856</td>\n",
       "      <td>5.102769</td>\n",
       "    </tr>\n",
       "  </tbody>\n",
       "</table>\n",
       "</div>"
      ],
      "text/plain": [
       "          m         t         w        th         f\n",
       "0  1.407870  3.351951  3.860283  3.356937  2.941539\n",
       "1  3.013592  2.249173  1.884551  3.529861  0.001105\n",
       "2  2.468492  2.899459  0.925412  0.927996  2.025176\n",
       "3  0.807185  3.690031  5.407825  2.739325  1.714737\n",
       "4  2.896334  2.106749  5.256489  1.650856  5.102769"
      ]
     },
     "execution_count": 71,
     "metadata": {},
     "output_type": "execute_result"
    }
   ],
   "source": [
    "# turn negatives into zeros and round all numbers\n",
    "weeks_df = weeks_df.applymap(lambda x: 0 if x < 0 else x)\n",
    "weeks_df.head()"
   ]
  },
  {
   "cell_type": "code",
   "execution_count": 72,
   "id": "b30438ea",
   "metadata": {},
   "outputs": [
    {
     "data": {
      "text/html": [
       "<div>\n",
       "<style scoped>\n",
       "    .dataframe tbody tr th:only-of-type {\n",
       "        vertical-align: middle;\n",
       "    }\n",
       "\n",
       "    .dataframe tbody tr th {\n",
       "        vertical-align: top;\n",
       "    }\n",
       "\n",
       "    .dataframe thead th {\n",
       "        text-align: right;\n",
       "    }\n",
       "</style>\n",
       "<table border=\"1\" class=\"dataframe\">\n",
       "  <thead>\n",
       "    <tr style=\"text-align: right;\">\n",
       "      <th></th>\n",
       "      <th>m</th>\n",
       "      <th>t</th>\n",
       "      <th>w</th>\n",
       "      <th>th</th>\n",
       "      <th>f</th>\n",
       "      <th>sum</th>\n",
       "    </tr>\n",
       "  </thead>\n",
       "  <tbody>\n",
       "    <tr>\n",
       "      <th>0</th>\n",
       "      <td>1.407870</td>\n",
       "      <td>3.351951</td>\n",
       "      <td>3.860283</td>\n",
       "      <td>3.356937</td>\n",
       "      <td>2.941539</td>\n",
       "      <td>14.918580</td>\n",
       "    </tr>\n",
       "    <tr>\n",
       "      <th>1</th>\n",
       "      <td>3.013592</td>\n",
       "      <td>2.249173</td>\n",
       "      <td>1.884551</td>\n",
       "      <td>3.529861</td>\n",
       "      <td>0.001105</td>\n",
       "      <td>10.678281</td>\n",
       "    </tr>\n",
       "    <tr>\n",
       "      <th>2</th>\n",
       "      <td>2.468492</td>\n",
       "      <td>2.899459</td>\n",
       "      <td>0.925412</td>\n",
       "      <td>0.927996</td>\n",
       "      <td>2.025176</td>\n",
       "      <td>9.246535</td>\n",
       "    </tr>\n",
       "    <tr>\n",
       "      <th>3</th>\n",
       "      <td>0.807185</td>\n",
       "      <td>3.690031</td>\n",
       "      <td>5.407825</td>\n",
       "      <td>2.739325</td>\n",
       "      <td>1.714737</td>\n",
       "      <td>14.359103</td>\n",
       "    </tr>\n",
       "    <tr>\n",
       "      <th>4</th>\n",
       "      <td>2.896334</td>\n",
       "      <td>2.106749</td>\n",
       "      <td>5.256489</td>\n",
       "      <td>1.650856</td>\n",
       "      <td>5.102769</td>\n",
       "      <td>17.013197</td>\n",
       "    </tr>\n",
       "  </tbody>\n",
       "</table>\n",
       "</div>"
      ],
      "text/plain": [
       "          m         t         w        th         f        sum\n",
       "0  1.407870  3.351951  3.860283  3.356937  2.941539  14.918580\n",
       "1  3.013592  2.249173  1.884551  3.529861  0.001105  10.678281\n",
       "2  2.468492  2.899459  0.925412  0.927996  2.025176   9.246535\n",
       "3  0.807185  3.690031  5.407825  2.739325  1.714737  14.359103\n",
       "4  2.896334  2.106749  5.256489  1.650856  5.102769  17.013197"
      ]
     },
     "execution_count": 72,
     "metadata": {},
     "output_type": "execute_result"
    }
   ],
   "source": [
    "weeks_df['sum'] = weeks_df.sum(axis=1)\n",
    "weeks_df.head()"
   ]
  },
  {
   "cell_type": "code",
   "execution_count": 73,
   "id": "38b8b12e",
   "metadata": {},
   "outputs": [],
   "source": [
    "weeks_df['still_poptarts'] = (16 - weeks_df['sum']) > 0"
   ]
  },
  {
   "cell_type": "code",
   "execution_count": 74,
   "id": "5e9fc3f7",
   "metadata": {},
   "outputs": [
    {
     "data": {
      "text/plain": [
       "0.61522"
      ]
     },
     "execution_count": 74,
     "metadata": {},
     "output_type": "execute_result"
    }
   ],
   "source": [
    "weeks_df['still_poptarts'].mean()"
   ]
  },
  {
   "cell_type": "markdown",
   "id": "f2c35921",
   "metadata": {},
   "source": [
    "5. Compare Heights\n",
    "\n",
    "    - Men have an average height of 178 cm and standard deviation of 8cm.\n",
    "    - Women have a mean of 170, sd = 6cm.\n",
    "    - Since you have means and standard deviations, you can use np.random.normal to generate observations.\n",
    "    - If a man and woman are chosen at random, what is the likelihood the woman is taller than the man?"
   ]
  },
  {
   "cell_type": "code",
   "execution_count": 78,
   "id": "dcab1a1a",
   "metadata": {},
   "outputs": [],
   "source": [
    "men_mu = 178\n",
    "women_mu = 170\n",
    "men_std = 8\n",
    "women_std = 6\n",
    "n_trials = 20_000\n",
    "\n",
    "men = np.random.normal(men_mu, men_std, size=(n_trials))\n",
    "women = np.random.normal(women_mu, women_std, size=(n_trials))"
   ]
  },
  {
   "cell_type": "code",
   "execution_count": 79,
   "id": "c9f24cee",
   "metadata": {},
   "outputs": [
    {
     "data": {
      "text/html": [
       "<div>\n",
       "<style scoped>\n",
       "    .dataframe tbody tr th:only-of-type {\n",
       "        vertical-align: middle;\n",
       "    }\n",
       "\n",
       "    .dataframe tbody tr th {\n",
       "        vertical-align: top;\n",
       "    }\n",
       "\n",
       "    .dataframe thead th {\n",
       "        text-align: right;\n",
       "    }\n",
       "</style>\n",
       "<table border=\"1\" class=\"dataframe\">\n",
       "  <thead>\n",
       "    <tr style=\"text-align: right;\">\n",
       "      <th></th>\n",
       "      <th>men</th>\n",
       "      <th>women</th>\n",
       "      <th>women_is_taller</th>\n",
       "    </tr>\n",
       "  </thead>\n",
       "  <tbody>\n",
       "    <tr>\n",
       "      <th>0</th>\n",
       "      <td>168.906263</td>\n",
       "      <td>169.004201</td>\n",
       "      <td>True</td>\n",
       "    </tr>\n",
       "    <tr>\n",
       "      <th>1</th>\n",
       "      <td>178.636822</td>\n",
       "      <td>174.390411</td>\n",
       "      <td>False</td>\n",
       "    </tr>\n",
       "    <tr>\n",
       "      <th>2</th>\n",
       "      <td>184.565199</td>\n",
       "      <td>165.959529</td>\n",
       "      <td>False</td>\n",
       "    </tr>\n",
       "    <tr>\n",
       "      <th>3</th>\n",
       "      <td>184.521755</td>\n",
       "      <td>156.790017</td>\n",
       "      <td>False</td>\n",
       "    </tr>\n",
       "    <tr>\n",
       "      <th>4</th>\n",
       "      <td>180.272014</td>\n",
       "      <td>169.215521</td>\n",
       "      <td>False</td>\n",
       "    </tr>\n",
       "  </tbody>\n",
       "</table>\n",
       "</div>"
      ],
      "text/plain": [
       "          men       women  women_is_taller\n",
       "0  168.906263  169.004201             True\n",
       "1  178.636822  174.390411            False\n",
       "2  184.565199  165.959529            False\n",
       "3  184.521755  156.790017            False\n",
       "4  180.272014  169.215521            False"
      ]
     },
     "execution_count": 79,
     "metadata": {},
     "output_type": "execute_result"
    }
   ],
   "source": [
    "data = {'men': men, 'women': women}\n",
    "df = pd.DataFrame(data)\n",
    "df['women_is_taller'] = df['women'] > df['men']\n",
    "df.head()"
   ]
  },
  {
   "cell_type": "code",
   "execution_count": 77,
   "id": "4df2e3f1",
   "metadata": {},
   "outputs": [
    {
     "data": {
      "text/plain": [
       "0.21455"
      ]
     },
     "execution_count": 77,
     "metadata": {},
     "output_type": "execute_result"
    }
   ],
   "source": [
    "df['women_is_taller'].mean()"
   ]
  },
  {
   "cell_type": "markdown",
   "id": "4d6a1a60",
   "metadata": {},
   "source": [
    "True likelihood listed below."
   ]
  },
  {
   "cell_type": "code",
   "execution_count": 102,
   "id": "6d28e1a0",
   "metadata": {},
   "outputs": [
    {
     "name": "stdout",
     "output_type": "stream",
     "text": [
      "The likelihood that a woman is taller than a man is: 0.21185539858339664\n"
     ]
    }
   ],
   "source": [
    "import scipy.stats as stats\n",
    "\n",
    "men_mean = 178\n",
    "men_std = 8\n",
    "women_mean = 170\n",
    "women_std = 6\n",
    "\n",
    "# Calculate the z-score for a woman's height being taller than a man's height\n",
    "z_score = (men_mean - women_mean) / np.sqrt(men_std**2 + women_std**2)\n",
    "\n",
    "# Calculate the probability using the cumulative distribution function (CDF)\n",
    "probability = 1 - stats.norm.cdf(z_score)\n",
    "\n",
    "print(\"The likelihood that a woman is taller than a man is:\", probability)"
   ]
  },
  {
   "cell_type": "markdown",
   "id": "c9c7b88f",
   "metadata": {},
   "source": [
    "6. When installing anaconda on a student's computer, there's a 1 in 250 chance that the download is corrupted and the installation fails. What are the odds that after having 50 students download anaconda, no one has an installation issue? 100 students?\n",
    "\n",
    "    What is the probability that we observe an installation issue within the first 150 students that download anaconda?\n",
    "\n",
    "    How likely is it that 450 students all download anaconda without an issue?"
   ]
  },
  {
   "cell_type": "code",
   "execution_count": null,
   "id": "89621113",
   "metadata": {},
   "outputs": [],
   "source": [
    "n_trials = 20_000\n",
    "n_students = 50\n",
    "\n",
    "outcomes = ['good', 'corrupted']\n",
    "p_corrupted = 1/250\n",
    "probabilities = [ 1 - p_corrupted , p_corrupted ]\n",
    "\n",
    "selections = np.random.choice(outcomes, size=(n_trials, n_students), p=probabilities)\n",
    "selections_df = pd.DataFrame(selections)\n",
    "selections_df['any_corrupted'] = selections_df.apply(lambda row: (row == 'corrupted').any(),\n",
    "                                                     axis=1)\n",
    "selections_df['any_corrupted'].mean()\n",
    "\n"
   ]
  },
  {
   "cell_type": "code",
   "execution_count": 85,
   "id": "19173f64",
   "metadata": {},
   "outputs": [
    {
     "name": "stdout",
     "output_type": "stream",
     "text": [
      "first 50 students: 18.48% likelihood of having at least 1 corruption.\n",
      "first 100 students: 33.63% likelihood of having at least 1 corruption.\n",
      "first 150 students: 45.14% likelihood of having at least 1 corruption.\n",
      "first 450 students: 83.71% likelihood of having at least 1 corruption.\n"
     ]
    }
   ],
   "source": [
    "totals = [50, 100, 150, 450]\n",
    "n_trials = 20_000\n",
    "for total in totals:\n",
    "\n",
    "    n_students = total\n",
    "\n",
    "    outcomes = ['good', 'corrupted']\n",
    "    p_corrupted = 1/250\n",
    "    probabilities = [ 1 - p_corrupted , p_corrupted ] \n",
    "\n",
    "    selections = np.random.choice(outcomes, size=(n_trials, n_students), p=probabilities)\n",
    "    selections_df = pd.DataFrame(selections)\n",
    "    selections_df['any_corrupted'] = selections_df.apply(lambda row: (row == 'corrupted').any(),\n",
    "                                                         axis=1)\n",
    "    p_hat = selections_df['any_corrupted'].mean()\n",
    "    print(f'first {total} students: {round((p_hat)*100, 2)}% likelihood of having at least 1 corruption.')"
   ]
  },
  {
   "cell_type": "markdown",
   "id": "03a64242",
   "metadata": {},
   "source": [
    "7. There's a 70% chance on any given day that there will be at least one food truck at Travis Park. However, you haven't seen a food truck there in 3 days. How unlikely is this?\n",
    "\n",
    "    How likely is it that a food truck will show up sometime this week?"
   ]
  },
  {
   "cell_type": "code",
   "execution_count": 167,
   "id": "8e1ec679",
   "metadata": {},
   "outputs": [
    {
     "name": "stdout",
     "output_type": "stream",
     "text": [
      "0.0281\n",
      "0.9719\n"
     ]
    }
   ],
   "source": [
    "n_trials = 20_000\n",
    "n_days = 3\n",
    "\n",
    "outcomes = ['truck', 'no truck']\n",
    "p_truck = .7\n",
    "probabilities = [ p_truck , 1 - p_truck ]\n",
    "\n",
    "\n",
    "trials = np.random.choice(outcomes, size=(n_trials, n_days), p=probabilities)\n",
    "trials_df = pd.DataFrame(trials)\n",
    "trials_df['no_trucks'] = trials_df.apply(lambda row: (row == 'no truck').all(),\n",
    "                                                     axis=1)\n",
    "# proportion of trials having no trucks in 3 days\n",
    "print(trials_df['no_trucks'].mean())\n",
    "\n",
    "# proportion of trials having at least 1 truck in 3 days\n",
    "print(1 - trials_df['no_trucks'].mean())"
   ]
  },
  {
   "cell_type": "code",
   "execution_count": 169,
   "id": "b937e605",
   "metadata": {},
   "outputs": [
    {
     "data": {
      "text/plain": [
       "0.026999999999999996"
      ]
     },
     "execution_count": 169,
     "metadata": {},
     "output_type": "execute_result"
    }
   ],
   "source": [
    "# true likelyhood of no trucks\n",
    ".30 ** 3"
   ]
  },
  {
   "cell_type": "markdown",
   "id": "fe3e82ab",
   "metadata": {},
   "source": [
    "8. If 23 people are in the same room, what are the odds that two of them share a birthday? What if it's 20 people? 40?"
   ]
  },
  {
   "cell_type": "code",
   "execution_count": 227,
   "id": "0419caa3",
   "metadata": {},
   "outputs": [
    {
     "data": {
      "text/html": [
       "<div>\n",
       "<style scoped>\n",
       "    .dataframe tbody tr th:only-of-type {\n",
       "        vertical-align: middle;\n",
       "    }\n",
       "\n",
       "    .dataframe tbody tr th {\n",
       "        vertical-align: top;\n",
       "    }\n",
       "\n",
       "    .dataframe thead th {\n",
       "        text-align: right;\n",
       "    }\n",
       "</style>\n",
       "<table border=\"1\" class=\"dataframe\">\n",
       "  <thead>\n",
       "    <tr style=\"text-align: right;\">\n",
       "      <th></th>\n",
       "      <th>0</th>\n",
       "      <th>1</th>\n",
       "      <th>2</th>\n",
       "      <th>3</th>\n",
       "      <th>4</th>\n",
       "      <th>5</th>\n",
       "      <th>6</th>\n",
       "      <th>7</th>\n",
       "      <th>8</th>\n",
       "      <th>9</th>\n",
       "      <th>...</th>\n",
       "      <th>14</th>\n",
       "      <th>15</th>\n",
       "      <th>16</th>\n",
       "      <th>17</th>\n",
       "      <th>18</th>\n",
       "      <th>19</th>\n",
       "      <th>20</th>\n",
       "      <th>21</th>\n",
       "      <th>22</th>\n",
       "      <th>not_all_distinct</th>\n",
       "    </tr>\n",
       "  </thead>\n",
       "  <tbody>\n",
       "    <tr>\n",
       "      <th>0</th>\n",
       "      <td>60</td>\n",
       "      <td>267</td>\n",
       "      <td>112</td>\n",
       "      <td>61</td>\n",
       "      <td>224</td>\n",
       "      <td>70</td>\n",
       "      <td>205</td>\n",
       "      <td>190</td>\n",
       "      <td>4</td>\n",
       "      <td>25</td>\n",
       "      <td>...</td>\n",
       "      <td>210</td>\n",
       "      <td>129</td>\n",
       "      <td>130</td>\n",
       "      <td>337</td>\n",
       "      <td>23</td>\n",
       "      <td>326</td>\n",
       "      <td>184</td>\n",
       "      <td>211</td>\n",
       "      <td>225</td>\n",
       "      <td>False</td>\n",
       "    </tr>\n",
       "    <tr>\n",
       "      <th>1</th>\n",
       "      <td>220</td>\n",
       "      <td>336</td>\n",
       "      <td>179</td>\n",
       "      <td>145</td>\n",
       "      <td>297</td>\n",
       "      <td>59</td>\n",
       "      <td>288</td>\n",
       "      <td>266</td>\n",
       "      <td>239</td>\n",
       "      <td>284</td>\n",
       "      <td>...</td>\n",
       "      <td>107</td>\n",
       "      <td>168</td>\n",
       "      <td>1</td>\n",
       "      <td>150</td>\n",
       "      <td>239</td>\n",
       "      <td>201</td>\n",
       "      <td>165</td>\n",
       "      <td>59</td>\n",
       "      <td>92</td>\n",
       "      <td>True</td>\n",
       "    </tr>\n",
       "    <tr>\n",
       "      <th>2</th>\n",
       "      <td>340</td>\n",
       "      <td>89</td>\n",
       "      <td>354</td>\n",
       "      <td>239</td>\n",
       "      <td>127</td>\n",
       "      <td>263</td>\n",
       "      <td>299</td>\n",
       "      <td>361</td>\n",
       "      <td>313</td>\n",
       "      <td>209</td>\n",
       "      <td>...</td>\n",
       "      <td>142</td>\n",
       "      <td>28</td>\n",
       "      <td>349</td>\n",
       "      <td>169</td>\n",
       "      <td>22</td>\n",
       "      <td>291</td>\n",
       "      <td>259</td>\n",
       "      <td>53</td>\n",
       "      <td>224</td>\n",
       "      <td>True</td>\n",
       "    </tr>\n",
       "    <tr>\n",
       "      <th>3</th>\n",
       "      <td>348</td>\n",
       "      <td>59</td>\n",
       "      <td>273</td>\n",
       "      <td>299</td>\n",
       "      <td>345</td>\n",
       "      <td>246</td>\n",
       "      <td>261</td>\n",
       "      <td>141</td>\n",
       "      <td>65</td>\n",
       "      <td>191</td>\n",
       "      <td>...</td>\n",
       "      <td>10</td>\n",
       "      <td>265</td>\n",
       "      <td>241</td>\n",
       "      <td>19</td>\n",
       "      <td>34</td>\n",
       "      <td>156</td>\n",
       "      <td>341</td>\n",
       "      <td>130</td>\n",
       "      <td>14</td>\n",
       "      <td>True</td>\n",
       "    </tr>\n",
       "    <tr>\n",
       "      <th>4</th>\n",
       "      <td>173</td>\n",
       "      <td>352</td>\n",
       "      <td>119</td>\n",
       "      <td>97</td>\n",
       "      <td>184</td>\n",
       "      <td>27</td>\n",
       "      <td>326</td>\n",
       "      <td>9</td>\n",
       "      <td>354</td>\n",
       "      <td>306</td>\n",
       "      <td>...</td>\n",
       "      <td>29</td>\n",
       "      <td>103</td>\n",
       "      <td>351</td>\n",
       "      <td>308</td>\n",
       "      <td>289</td>\n",
       "      <td>272</td>\n",
       "      <td>204</td>\n",
       "      <td>197</td>\n",
       "      <td>311</td>\n",
       "      <td>False</td>\n",
       "    </tr>\n",
       "    <tr>\n",
       "      <th>...</th>\n",
       "      <td>...</td>\n",
       "      <td>...</td>\n",
       "      <td>...</td>\n",
       "      <td>...</td>\n",
       "      <td>...</td>\n",
       "      <td>...</td>\n",
       "      <td>...</td>\n",
       "      <td>...</td>\n",
       "      <td>...</td>\n",
       "      <td>...</td>\n",
       "      <td>...</td>\n",
       "      <td>...</td>\n",
       "      <td>...</td>\n",
       "      <td>...</td>\n",
       "      <td>...</td>\n",
       "      <td>...</td>\n",
       "      <td>...</td>\n",
       "      <td>...</td>\n",
       "      <td>...</td>\n",
       "      <td>...</td>\n",
       "      <td>...</td>\n",
       "    </tr>\n",
       "    <tr>\n",
       "      <th>19995</th>\n",
       "      <td>281</td>\n",
       "      <td>362</td>\n",
       "      <td>54</td>\n",
       "      <td>296</td>\n",
       "      <td>97</td>\n",
       "      <td>149</td>\n",
       "      <td>34</td>\n",
       "      <td>314</td>\n",
       "      <td>216</td>\n",
       "      <td>208</td>\n",
       "      <td>...</td>\n",
       "      <td>194</td>\n",
       "      <td>248</td>\n",
       "      <td>247</td>\n",
       "      <td>323</td>\n",
       "      <td>95</td>\n",
       "      <td>304</td>\n",
       "      <td>216</td>\n",
       "      <td>253</td>\n",
       "      <td>185</td>\n",
       "      <td>True</td>\n",
       "    </tr>\n",
       "    <tr>\n",
       "      <th>19996</th>\n",
       "      <td>353</td>\n",
       "      <td>232</td>\n",
       "      <td>104</td>\n",
       "      <td>69</td>\n",
       "      <td>123</td>\n",
       "      <td>364</td>\n",
       "      <td>85</td>\n",
       "      <td>37</td>\n",
       "      <td>40</td>\n",
       "      <td>233</td>\n",
       "      <td>...</td>\n",
       "      <td>195</td>\n",
       "      <td>132</td>\n",
       "      <td>201</td>\n",
       "      <td>157</td>\n",
       "      <td>365</td>\n",
       "      <td>322</td>\n",
       "      <td>341</td>\n",
       "      <td>282</td>\n",
       "      <td>64</td>\n",
       "      <td>False</td>\n",
       "    </tr>\n",
       "    <tr>\n",
       "      <th>19997</th>\n",
       "      <td>364</td>\n",
       "      <td>190</td>\n",
       "      <td>361</td>\n",
       "      <td>97</td>\n",
       "      <td>246</td>\n",
       "      <td>151</td>\n",
       "      <td>111</td>\n",
       "      <td>365</td>\n",
       "      <td>225</td>\n",
       "      <td>155</td>\n",
       "      <td>...</td>\n",
       "      <td>255</td>\n",
       "      <td>284</td>\n",
       "      <td>108</td>\n",
       "      <td>314</td>\n",
       "      <td>73</td>\n",
       "      <td>70</td>\n",
       "      <td>8</td>\n",
       "      <td>32</td>\n",
       "      <td>337</td>\n",
       "      <td>False</td>\n",
       "    </tr>\n",
       "    <tr>\n",
       "      <th>19998</th>\n",
       "      <td>320</td>\n",
       "      <td>313</td>\n",
       "      <td>343</td>\n",
       "      <td>234</td>\n",
       "      <td>30</td>\n",
       "      <td>120</td>\n",
       "      <td>243</td>\n",
       "      <td>223</td>\n",
       "      <td>352</td>\n",
       "      <td>281</td>\n",
       "      <td>...</td>\n",
       "      <td>235</td>\n",
       "      <td>135</td>\n",
       "      <td>66</td>\n",
       "      <td>360</td>\n",
       "      <td>98</td>\n",
       "      <td>238</td>\n",
       "      <td>357</td>\n",
       "      <td>62</td>\n",
       "      <td>166</td>\n",
       "      <td>True</td>\n",
       "    </tr>\n",
       "    <tr>\n",
       "      <th>19999</th>\n",
       "      <td>258</td>\n",
       "      <td>287</td>\n",
       "      <td>150</td>\n",
       "      <td>66</td>\n",
       "      <td>194</td>\n",
       "      <td>223</td>\n",
       "      <td>361</td>\n",
       "      <td>18</td>\n",
       "      <td>201</td>\n",
       "      <td>224</td>\n",
       "      <td>...</td>\n",
       "      <td>9</td>\n",
       "      <td>209</td>\n",
       "      <td>209</td>\n",
       "      <td>37</td>\n",
       "      <td>264</td>\n",
       "      <td>323</td>\n",
       "      <td>133</td>\n",
       "      <td>225</td>\n",
       "      <td>314</td>\n",
       "      <td>True</td>\n",
       "    </tr>\n",
       "  </tbody>\n",
       "</table>\n",
       "<p>20000 rows × 24 columns</p>\n",
       "</div>"
      ],
      "text/plain": [
       "         0    1    2    3    4    5    6    7    8    9  ...   14   15   16  \\\n",
       "0       60  267  112   61  224   70  205  190    4   25  ...  210  129  130   \n",
       "1      220  336  179  145  297   59  288  266  239  284  ...  107  168    1   \n",
       "2      340   89  354  239  127  263  299  361  313  209  ...  142   28  349   \n",
       "3      348   59  273  299  345  246  261  141   65  191  ...   10  265  241   \n",
       "4      173  352  119   97  184   27  326    9  354  306  ...   29  103  351   \n",
       "...    ...  ...  ...  ...  ...  ...  ...  ...  ...  ...  ...  ...  ...  ...   \n",
       "19995  281  362   54  296   97  149   34  314  216  208  ...  194  248  247   \n",
       "19996  353  232  104   69  123  364   85   37   40  233  ...  195  132  201   \n",
       "19997  364  190  361   97  246  151  111  365  225  155  ...  255  284  108   \n",
       "19998  320  313  343  234   30  120  243  223  352  281  ...  235  135   66   \n",
       "19999  258  287  150   66  194  223  361   18  201  224  ...    9  209  209   \n",
       "\n",
       "        17   18   19   20   21   22  not_all_distinct  \n",
       "0      337   23  326  184  211  225             False  \n",
       "1      150  239  201  165   59   92              True  \n",
       "2      169   22  291  259   53  224              True  \n",
       "3       19   34  156  341  130   14              True  \n",
       "4      308  289  272  204  197  311             False  \n",
       "...    ...  ...  ...  ...  ...  ...               ...  \n",
       "19995  323   95  304  216  253  185              True  \n",
       "19996  157  365  322  341  282   64             False  \n",
       "19997  314   73   70    8   32  337             False  \n",
       "19998  360   98  238  357   62  166              True  \n",
       "19999   37  264  323  133  225  314              True  \n",
       "\n",
       "[20000 rows x 24 columns]"
      ]
     },
     "execution_count": 227,
     "metadata": {},
     "output_type": "execute_result"
    }
   ],
   "source": [
    "n_trials = 20_000\n",
    "n_people = 23\n",
    "\n",
    "outcomes = np.arange(1, 366)\n",
    "\n",
    "trials = np.random.choice(outcomes, size=(n_trials, n_people))\n",
    "trials_df = pd.DataFrame(trials)\n",
    "trials_df['not_all_distinct'] = trials_df.apply(lambda row: len(row) != len(set(row)), axis=1)\n",
    "\n",
    "trials_df"
   ]
  },
  {
   "cell_type": "code",
   "execution_count": 231,
   "id": "5a7f7fc0",
   "metadata": {},
   "outputs": [
    {
     "name": "stdout",
     "output_type": "stream",
     "text": [
      "0.11755 proportion of trials\n",
      "            with 10 people had a common birthday\n",
      "0.51165 proportion of trials\n",
      "            with 23 people had a common birthday\n",
      "0.41345 proportion of trials\n",
      "            with 20 people had a common birthday\n",
      "0.8892 proportion of trials\n",
      "            with 40 people had a common birthday\n",
      "0.96985 proportion of trials\n",
      "            with 50 people had a common birthday\n"
     ]
    }
   ],
   "source": [
    "totals = [10, 23, 20, 40, 50]\n",
    "n_trials = 20_000\n",
    "outcomes = np.arange(1, 366)\n",
    "\n",
    "\n",
    "for total in totals:\n",
    "    outcomes = np.arange(1, 366)\n",
    "\n",
    "    trials = np.random.choice(outcomes, size=(n_trials, total))\n",
    "    trials_df = pd.DataFrame(trials)\n",
    "    trials_df['not_all_distinct'] = \\\n",
    "                    trials_df.apply(lambda row: len(row) != len(set(row)), axis=1)\n",
    "\n",
    "    \n",
    "    print(f\"\"\"{trials_df['not_all_distinct'].mean()} proportion of trials\n",
    "            with {total} people had a common birthday\"\"\")"
   ]
  }
 ],
 "metadata": {
  "kernelspec": {
   "display_name": "Python 3 (ipykernel)",
   "language": "python",
   "name": "python3"
  },
  "language_info": {
   "codemirror_mode": {
    "name": "ipython",
    "version": 3
   },
   "file_extension": ".py",
   "mimetype": "text/x-python",
   "name": "python",
   "nbconvert_exporter": "python",
   "pygments_lexer": "ipython3",
   "version": "3.10.9"
  },
  "varInspector": {
   "cols": {
    "lenName": 16,
    "lenType": 16,
    "lenVar": 40
   },
   "kernels_config": {
    "python": {
     "delete_cmd_postfix": "",
     "delete_cmd_prefix": "del ",
     "library": "var_list.py",
     "varRefreshCmd": "print(var_dic_list())"
    },
    "r": {
     "delete_cmd_postfix": ") ",
     "delete_cmd_prefix": "rm(",
     "library": "var_list.r",
     "varRefreshCmd": "cat(var_dic_list()) "
    }
   },
   "types_to_exclude": [
    "module",
    "function",
    "builtin_function_or_method",
    "instance",
    "_Feature"
   ],
   "window_display": false
  }
 },
 "nbformat": 4,
 "nbformat_minor": 5
}
