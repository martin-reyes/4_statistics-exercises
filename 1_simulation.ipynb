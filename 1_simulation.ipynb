{
 "cells": [
  {
   "cell_type": "code",
   "execution_count": 1,
   "id": "721f5a06",
   "metadata": {},
   "outputs": [],
   "source": [
    "import numpy as np\n",
    "import pandas as pd"
   ]
  },
  {
   "cell_type": "markdown",
   "id": "ce8b9f3b",
   "metadata": {},
   "source": [
    "1. How likely is it that you roll doubles when rolling two dice? **1/6, but let's simulate**"
   ]
  },
  {
   "cell_type": "code",
   "execution_count": 21,
   "id": "627f1c75",
   "metadata": {},
   "outputs": [
    {
     "data": {
      "text/plain": [
       "array([[4, 2],\n",
       "       [4, 3],\n",
       "       [2, 3],\n",
       "       ...,\n",
       "       [6, 5],\n",
       "       [4, 4],\n",
       "       [5, 3]])"
      ]
     },
     "execution_count": 21,
     "metadata": {},
     "output_type": "execute_result"
    }
   ],
   "source": [
    "# array of 20,000 dice rolls\n",
    "n_trials = 20_000\n",
    "n_dice = 2\n",
    "outcomes = [1, 2, 3, 4, 5, 6]\n",
    "rolls = np.random.choice(outcomes,(n_trials, n_dice))\n",
    "rolls"
   ]
  },
  {
   "cell_type": "code",
   "execution_count": 22,
   "id": "56d02119",
   "metadata": {},
   "outputs": [
    {
     "data": {
      "text/html": [
       "<div>\n",
       "<style scoped>\n",
       "    .dataframe tbody tr th:only-of-type {\n",
       "        vertical-align: middle;\n",
       "    }\n",
       "\n",
       "    .dataframe tbody tr th {\n",
       "        vertical-align: top;\n",
       "    }\n",
       "\n",
       "    .dataframe thead th {\n",
       "        text-align: right;\n",
       "    }\n",
       "</style>\n",
       "<table border=\"1\" class=\"dataframe\">\n",
       "  <thead>\n",
       "    <tr style=\"text-align: right;\">\n",
       "      <th></th>\n",
       "      <th>0</th>\n",
       "      <th>1</th>\n",
       "    </tr>\n",
       "  </thead>\n",
       "  <tbody>\n",
       "    <tr>\n",
       "      <th>0</th>\n",
       "      <td>4</td>\n",
       "      <td>2</td>\n",
       "    </tr>\n",
       "    <tr>\n",
       "      <th>1</th>\n",
       "      <td>4</td>\n",
       "      <td>3</td>\n",
       "    </tr>\n",
       "    <tr>\n",
       "      <th>2</th>\n",
       "      <td>2</td>\n",
       "      <td>3</td>\n",
       "    </tr>\n",
       "    <tr>\n",
       "      <th>3</th>\n",
       "      <td>5</td>\n",
       "      <td>3</td>\n",
       "    </tr>\n",
       "    <tr>\n",
       "      <th>4</th>\n",
       "      <td>3</td>\n",
       "      <td>6</td>\n",
       "    </tr>\n",
       "  </tbody>\n",
       "</table>\n",
       "</div>"
      ],
      "text/plain": [
       "   0  1\n",
       "0  4  2\n",
       "1  4  3\n",
       "2  2  3\n",
       "3  5  3\n",
       "4  3  6"
      ]
     },
     "execution_count": 22,
     "metadata": {},
     "output_type": "execute_result"
    }
   ],
   "source": [
    "# store rolls into df\n",
    "rolls_df = pd.DataFrame(rolls)\n",
    "rolls_df.head()"
   ]
  },
  {
   "cell_type": "code",
   "execution_count": 23,
   "id": "8a61113c",
   "metadata": {},
   "outputs": [],
   "source": [
    "# create 'doubles' column that indicates if rolls ended up being doubles\n",
    "rolls_df['doubles'] = rolls_df[0] == rolls_df[1]"
   ]
  },
  {
   "cell_type": "code",
   "execution_count": 24,
   "id": "a2f93fe1",
   "metadata": {},
   "outputs": [
    {
     "data": {
      "text/html": [
       "<div>\n",
       "<style scoped>\n",
       "    .dataframe tbody tr th:only-of-type {\n",
       "        vertical-align: middle;\n",
       "    }\n",
       "\n",
       "    .dataframe tbody tr th {\n",
       "        vertical-align: top;\n",
       "    }\n",
       "\n",
       "    .dataframe thead th {\n",
       "        text-align: right;\n",
       "    }\n",
       "</style>\n",
       "<table border=\"1\" class=\"dataframe\">\n",
       "  <thead>\n",
       "    <tr style=\"text-align: right;\">\n",
       "      <th></th>\n",
       "      <th>0</th>\n",
       "      <th>1</th>\n",
       "      <th>doubles</th>\n",
       "    </tr>\n",
       "  </thead>\n",
       "  <tbody>\n",
       "    <tr>\n",
       "      <th>0</th>\n",
       "      <td>4</td>\n",
       "      <td>2</td>\n",
       "      <td>False</td>\n",
       "    </tr>\n",
       "    <tr>\n",
       "      <th>1</th>\n",
       "      <td>4</td>\n",
       "      <td>3</td>\n",
       "      <td>False</td>\n",
       "    </tr>\n",
       "    <tr>\n",
       "      <th>2</th>\n",
       "      <td>2</td>\n",
       "      <td>3</td>\n",
       "      <td>False</td>\n",
       "    </tr>\n",
       "    <tr>\n",
       "      <th>3</th>\n",
       "      <td>5</td>\n",
       "      <td>3</td>\n",
       "      <td>False</td>\n",
       "    </tr>\n",
       "    <tr>\n",
       "      <th>4</th>\n",
       "      <td>3</td>\n",
       "      <td>6</td>\n",
       "      <td>False</td>\n",
       "    </tr>\n",
       "    <tr>\n",
       "      <th>5</th>\n",
       "      <td>6</td>\n",
       "      <td>4</td>\n",
       "      <td>False</td>\n",
       "    </tr>\n",
       "    <tr>\n",
       "      <th>6</th>\n",
       "      <td>5</td>\n",
       "      <td>2</td>\n",
       "      <td>False</td>\n",
       "    </tr>\n",
       "    <tr>\n",
       "      <th>7</th>\n",
       "      <td>1</td>\n",
       "      <td>2</td>\n",
       "      <td>False</td>\n",
       "    </tr>\n",
       "  </tbody>\n",
       "</table>\n",
       "</div>"
      ],
      "text/plain": [
       "   0  1  doubles\n",
       "0  4  2    False\n",
       "1  4  3    False\n",
       "2  2  3    False\n",
       "3  5  3    False\n",
       "4  3  6    False\n",
       "5  6  4    False\n",
       "6  5  2    False\n",
       "7  1  2    False"
      ]
     },
     "execution_count": 24,
     "metadata": {},
     "output_type": "execute_result"
    }
   ],
   "source": [
    "# verify\n",
    "rolls_df.head(8)"
   ]
  },
  {
   "cell_type": "code",
   "execution_count": 25,
   "id": "a3ee1933",
   "metadata": {},
   "outputs": [
    {
     "data": {
      "text/plain": [
       "0.16705"
      ]
     },
     "execution_count": 25,
     "metadata": {},
     "output_type": "execute_result"
    }
   ],
   "source": [
    "# mean of this column is close to the true probability\n",
    "rolls_df['doubles'].mean()"
   ]
  },
  {
   "cell_type": "markdown",
   "id": "7721aef1",
   "metadata": {},
   "source": [
    "2. If you flip 8 coins, what is the probability of getting exactly 3 heads? What is the probability of getting more than 3 heads?"
   ]
  },
  {
   "cell_type": "code",
   "execution_count": 30,
   "id": "33fa0277",
   "metadata": {},
   "outputs": [
    {
     "data": {
      "text/plain": [
       "array([['T', 'H', 'T'],\n",
       "       ['T', 'T', 'H'],\n",
       "       ['H', 'T', 'H'],\n",
       "       ...,\n",
       "       ['T', 'H', 'T'],\n",
       "       ['H', 'T', 'H'],\n",
       "       ['T', 'H', 'T']], dtype='<U1')"
      ]
     },
     "execution_count": 30,
     "metadata": {},
     "output_type": "execute_result"
    }
   ],
   "source": [
    "# array of 20,000 dice rolls\n",
    "n_trials = 20_000\n",
    "n_coins = 3\n",
    "outcomes = ['T', 'H']\n",
    "# choose one of 3 outcomes, n_trials x n_coins array\n",
    "flips = np.random.choice(outcomes,(n_trials, n_coins))\n",
    "flips"
   ]
  },
  {
   "cell_type": "code",
   "execution_count": 32,
   "id": "74aae960",
   "metadata": {},
   "outputs": [
    {
     "data": {
      "text/html": [
       "<div>\n",
       "<style scoped>\n",
       "    .dataframe tbody tr th:only-of-type {\n",
       "        vertical-align: middle;\n",
       "    }\n",
       "\n",
       "    .dataframe tbody tr th {\n",
       "        vertical-align: top;\n",
       "    }\n",
       "\n",
       "    .dataframe thead th {\n",
       "        text-align: right;\n",
       "    }\n",
       "</style>\n",
       "<table border=\"1\" class=\"dataframe\">\n",
       "  <thead>\n",
       "    <tr style=\"text-align: right;\">\n",
       "      <th></th>\n",
       "      <th>0</th>\n",
       "      <th>1</th>\n",
       "      <th>2</th>\n",
       "    </tr>\n",
       "  </thead>\n",
       "  <tbody>\n",
       "    <tr>\n",
       "      <th>0</th>\n",
       "      <td>T</td>\n",
       "      <td>H</td>\n",
       "      <td>T</td>\n",
       "    </tr>\n",
       "    <tr>\n",
       "      <th>1</th>\n",
       "      <td>T</td>\n",
       "      <td>T</td>\n",
       "      <td>H</td>\n",
       "    </tr>\n",
       "    <tr>\n",
       "      <th>2</th>\n",
       "      <td>H</td>\n",
       "      <td>T</td>\n",
       "      <td>H</td>\n",
       "    </tr>\n",
       "    <tr>\n",
       "      <th>3</th>\n",
       "      <td>T</td>\n",
       "      <td>T</td>\n",
       "      <td>T</td>\n",
       "    </tr>\n",
       "    <tr>\n",
       "      <th>4</th>\n",
       "      <td>T</td>\n",
       "      <td>H</td>\n",
       "      <td>H</td>\n",
       "    </tr>\n",
       "  </tbody>\n",
       "</table>\n",
       "</div>"
      ],
      "text/plain": [
       "   0  1  2\n",
       "0  T  H  T\n",
       "1  T  T  H\n",
       "2  H  T  H\n",
       "3  T  T  T\n",
       "4  T  H  H"
      ]
     },
     "execution_count": 32,
     "metadata": {},
     "output_type": "execute_result"
    }
   ],
   "source": [
    "# store rolls into df\n",
    "flips_df = pd.DataFrame(flips)\n",
    "flips_df.head()"
   ]
  },
  {
   "cell_type": "code",
   "execution_count": 35,
   "id": "447de3f3",
   "metadata": {},
   "outputs": [],
   "source": [
    "flips_df['three_heads'] = flips_df.apply(lambda row: (row == 'H').all(), axis=1)"
   ]
  },
  {
   "cell_type": "markdown",
   "id": "90774488",
   "metadata": {},
   "source": [
    "Verify"
   ]
  },
  {
   "cell_type": "code",
   "execution_count": 42,
   "id": "1b1d90ce",
   "metadata": {},
   "outputs": [
    {
     "data": {
      "text/html": [
       "<div>\n",
       "<style scoped>\n",
       "    .dataframe tbody tr th:only-of-type {\n",
       "        vertical-align: middle;\n",
       "    }\n",
       "\n",
       "    .dataframe tbody tr th {\n",
       "        vertical-align: top;\n",
       "    }\n",
       "\n",
       "    .dataframe thead th {\n",
       "        text-align: right;\n",
       "    }\n",
       "</style>\n",
       "<table border=\"1\" class=\"dataframe\">\n",
       "  <thead>\n",
       "    <tr style=\"text-align: right;\">\n",
       "      <th></th>\n",
       "      <th>0</th>\n",
       "      <th>1</th>\n",
       "      <th>2</th>\n",
       "      <th>three_heads</th>\n",
       "    </tr>\n",
       "  </thead>\n",
       "  <tbody>\n",
       "    <tr>\n",
       "      <th>19991</th>\n",
       "      <td>H</td>\n",
       "      <td>H</td>\n",
       "      <td>H</td>\n",
       "      <td>True</td>\n",
       "    </tr>\n",
       "    <tr>\n",
       "      <th>19992</th>\n",
       "      <td>H</td>\n",
       "      <td>H</td>\n",
       "      <td>H</td>\n",
       "      <td>True</td>\n",
       "    </tr>\n",
       "    <tr>\n",
       "      <th>19993</th>\n",
       "      <td>H</td>\n",
       "      <td>H</td>\n",
       "      <td>T</td>\n",
       "      <td>False</td>\n",
       "    </tr>\n",
       "    <tr>\n",
       "      <th>19994</th>\n",
       "      <td>H</td>\n",
       "      <td>H</td>\n",
       "      <td>T</td>\n",
       "      <td>False</td>\n",
       "    </tr>\n",
       "    <tr>\n",
       "      <th>19995</th>\n",
       "      <td>H</td>\n",
       "      <td>T</td>\n",
       "      <td>T</td>\n",
       "      <td>False</td>\n",
       "    </tr>\n",
       "    <tr>\n",
       "      <th>19996</th>\n",
       "      <td>H</td>\n",
       "      <td>H</td>\n",
       "      <td>H</td>\n",
       "      <td>True</td>\n",
       "    </tr>\n",
       "    <tr>\n",
       "      <th>19997</th>\n",
       "      <td>T</td>\n",
       "      <td>H</td>\n",
       "      <td>T</td>\n",
       "      <td>False</td>\n",
       "    </tr>\n",
       "    <tr>\n",
       "      <th>19998</th>\n",
       "      <td>H</td>\n",
       "      <td>T</td>\n",
       "      <td>H</td>\n",
       "      <td>False</td>\n",
       "    </tr>\n",
       "    <tr>\n",
       "      <th>19999</th>\n",
       "      <td>T</td>\n",
       "      <td>H</td>\n",
       "      <td>T</td>\n",
       "      <td>False</td>\n",
       "    </tr>\n",
       "  </tbody>\n",
       "</table>\n",
       "</div>"
      ],
      "text/plain": [
       "       0  1  2  three_heads\n",
       "19991  H  H  H         True\n",
       "19992  H  H  H         True\n",
       "19993  H  H  T        False\n",
       "19994  H  H  T        False\n",
       "19995  H  T  T        False\n",
       "19996  H  H  H         True\n",
       "19997  T  H  T        False\n",
       "19998  H  T  H        False\n",
       "19999  T  H  T        False"
      ]
     },
     "execution_count": 42,
     "metadata": {},
     "output_type": "execute_result"
    }
   ],
   "source": [
    "flips_df.tail(9)"
   ]
  },
  {
   "cell_type": "code",
   "execution_count": 43,
   "id": "8a921dc4",
   "metadata": {},
   "outputs": [
    {
     "data": {
      "text/plain": [
       "0.1262"
      ]
     },
     "execution_count": 43,
     "metadata": {},
     "output_type": "execute_result"
    }
   ],
   "source": [
    "# mean of this column is close to the true probability\n",
    "flips_df['three_heads'].mean()"
   ]
  },
  {
   "cell_type": "markdown",
   "id": "a175e473",
   "metadata": {},
   "source": [
    "This is close to the true probability:"
   ]
  },
  {
   "cell_type": "code",
   "execution_count": 45,
   "id": "cfbc1faa",
   "metadata": {},
   "outputs": [
    {
     "data": {
      "text/plain": [
       "0.125"
      ]
     },
     "execution_count": 45,
     "metadata": {},
     "output_type": "execute_result"
    }
   ],
   "source": [
    ".5 ** 3"
   ]
  },
  {
   "cell_type": "markdown",
   "id": "1ba58533",
   "metadata": {},
   "source": [
    "3. There are approximitely 3 web development cohorts for every 1 data science cohort at Codeup. Assuming that Codeup randomly selects an alumni to put on a billboard, what are the odds that the two billboards I drive past both have data science students on them?"
   ]
  },
  {
   "cell_type": "code",
   "execution_count": 84,
   "id": "f62ca0c6",
   "metadata": {},
   "outputs": [
    {
     "data": {
      "text/plain": [
       "array([['W', 'D'],\n",
       "       ['W', 'W'],\n",
       "       ['D', 'D'],\n",
       "       ...,\n",
       "       ['W', 'D'],\n",
       "       ['D', 'D'],\n",
       "       ['W', 'W']], dtype='<U1')"
      ]
     },
     "execution_count": 84,
     "metadata": {},
     "output_type": "execute_result"
    }
   ],
   "source": [
    "n_trials = 20_000\n",
    "n_selections = 2\n",
    "\n",
    "n_web_dev_cohorts = 3\n",
    "n_data_cohorts = 1\n",
    "n_cohorts = n_web_dev_cohorts + n_data_cohorts\n",
    "\n",
    "outcomes = ['W', 'D']  # Possible outcomes: 'W' and 'D'\n",
    "probabilities = [ n_web_dev_cohorts / n_cohorts,\n",
    "                  n_data_cohorts / n_cohorts ] \n",
    "                    # Probabilities of getting 'W' and 'D' respectively\n",
    "\n",
    "\n",
    "selections = np.random.choice(outcomes, size=(n_trials, n_selections), p=probabilities)\n",
    "selections"
   ]
  },
  {
   "cell_type": "code",
   "execution_count": 85,
   "id": "72939000",
   "metadata": {},
   "outputs": [
    {
     "data": {
      "text/plain": [
       "array([['D', 'D'],\n",
       "       ['D', 'W'],\n",
       "       ['W', 'D'],\n",
       "       ['W', 'W']], dtype='<U1')"
      ]
     },
     "execution_count": 85,
     "metadata": {},
     "output_type": "execute_result"
    }
   ],
   "source": [
    "np.unique(selections, axis = 0)"
   ]
  },
  {
   "cell_type": "code",
   "execution_count": 88,
   "id": "22220979",
   "metadata": {},
   "outputs": [
    {
     "data": {
      "text/html": [
       "<div>\n",
       "<style scoped>\n",
       "    .dataframe tbody tr th:only-of-type {\n",
       "        vertical-align: middle;\n",
       "    }\n",
       "\n",
       "    .dataframe tbody tr th {\n",
       "        vertical-align: top;\n",
       "    }\n",
       "\n",
       "    .dataframe thead th {\n",
       "        text-align: right;\n",
       "    }\n",
       "</style>\n",
       "<table border=\"1\" class=\"dataframe\">\n",
       "  <thead>\n",
       "    <tr style=\"text-align: right;\">\n",
       "      <th></th>\n",
       "      <th>0</th>\n",
       "      <th>1</th>\n",
       "    </tr>\n",
       "  </thead>\n",
       "  <tbody>\n",
       "    <tr>\n",
       "      <th>19995</th>\n",
       "      <td>W</td>\n",
       "      <td>D</td>\n",
       "    </tr>\n",
       "    <tr>\n",
       "      <th>19996</th>\n",
       "      <td>D</td>\n",
       "      <td>W</td>\n",
       "    </tr>\n",
       "    <tr>\n",
       "      <th>19997</th>\n",
       "      <td>W</td>\n",
       "      <td>D</td>\n",
       "    </tr>\n",
       "    <tr>\n",
       "      <th>19998</th>\n",
       "      <td>D</td>\n",
       "      <td>D</td>\n",
       "    </tr>\n",
       "    <tr>\n",
       "      <th>19999</th>\n",
       "      <td>W</td>\n",
       "      <td>W</td>\n",
       "    </tr>\n",
       "  </tbody>\n",
       "</table>\n",
       "</div>"
      ],
      "text/plain": [
       "       0  1\n",
       "19995  W  D\n",
       "19996  D  W\n",
       "19997  W  D\n",
       "19998  D  D\n",
       "19999  W  W"
      ]
     },
     "execution_count": 88,
     "metadata": {},
     "output_type": "execute_result"
    }
   ],
   "source": [
    "# store rolls into df\n",
    "selections_df = pd.DataFrame(selections)\n",
    "selections_df.tail()"
   ]
  },
  {
   "cell_type": "code",
   "execution_count": 89,
   "id": "b5511c89",
   "metadata": {},
   "outputs": [],
   "source": [
    "selections_df['two_data'] = selections_df.apply(lambda row: (row == 'D').all(), axis=1)"
   ]
  },
  {
   "cell_type": "code",
   "execution_count": 90,
   "id": "8442e7e4",
   "metadata": {},
   "outputs": [
    {
     "data": {
      "text/html": [
       "<div>\n",
       "<style scoped>\n",
       "    .dataframe tbody tr th:only-of-type {\n",
       "        vertical-align: middle;\n",
       "    }\n",
       "\n",
       "    .dataframe tbody tr th {\n",
       "        vertical-align: top;\n",
       "    }\n",
       "\n",
       "    .dataframe thead th {\n",
       "        text-align: right;\n",
       "    }\n",
       "</style>\n",
       "<table border=\"1\" class=\"dataframe\">\n",
       "  <thead>\n",
       "    <tr style=\"text-align: right;\">\n",
       "      <th></th>\n",
       "      <th>0</th>\n",
       "      <th>1</th>\n",
       "      <th>two_data</th>\n",
       "    </tr>\n",
       "  </thead>\n",
       "  <tbody>\n",
       "    <tr>\n",
       "      <th>19995</th>\n",
       "      <td>W</td>\n",
       "      <td>D</td>\n",
       "      <td>False</td>\n",
       "    </tr>\n",
       "    <tr>\n",
       "      <th>19996</th>\n",
       "      <td>D</td>\n",
       "      <td>W</td>\n",
       "      <td>False</td>\n",
       "    </tr>\n",
       "    <tr>\n",
       "      <th>19997</th>\n",
       "      <td>W</td>\n",
       "      <td>D</td>\n",
       "      <td>False</td>\n",
       "    </tr>\n",
       "    <tr>\n",
       "      <th>19998</th>\n",
       "      <td>D</td>\n",
       "      <td>D</td>\n",
       "      <td>True</td>\n",
       "    </tr>\n",
       "    <tr>\n",
       "      <th>19999</th>\n",
       "      <td>W</td>\n",
       "      <td>W</td>\n",
       "      <td>False</td>\n",
       "    </tr>\n",
       "  </tbody>\n",
       "</table>\n",
       "</div>"
      ],
      "text/plain": [
       "       0  1  two_data\n",
       "19995  W  D     False\n",
       "19996  D  W     False\n",
       "19997  W  D     False\n",
       "19998  D  D      True\n",
       "19999  W  W     False"
      ]
     },
     "execution_count": 90,
     "metadata": {},
     "output_type": "execute_result"
    }
   ],
   "source": [
    "selections_df.tail()"
   ]
  },
  {
   "cell_type": "code",
   "execution_count": 82,
   "id": "fa9e9726",
   "metadata": {},
   "outputs": [
    {
     "data": {
      "text/plain": [
       "array([False,  True])"
      ]
     },
     "execution_count": 82,
     "metadata": {},
     "output_type": "execute_result"
    }
   ],
   "source": [
    "selections_df['two_data'].unique()"
   ]
  },
  {
   "cell_type": "code",
   "execution_count": null,
   "id": "76dc875b",
   "metadata": {},
   "outputs": [],
   "source": [
    "z"
   ]
  },
  {
   "cell_type": "code",
   "execution_count": 83,
   "id": "e5cb92a3",
   "metadata": {
    "scrolled": true
   },
   "outputs": [
    {
     "data": {
      "text/plain": [
       "0.0612"
      ]
     },
     "execution_count": 83,
     "metadata": {},
     "output_type": "execute_result"
    }
   ],
   "source": [
    "selections_df['two_data'].mean()"
   ]
  },
  {
   "cell_type": "markdown",
   "id": "683fc84c",
   "metadata": {},
   "source": [
    "This is close to the true probability:"
   ]
  },
  {
   "cell_type": "code",
   "execution_count": 91,
   "id": "eb880722",
   "metadata": {},
   "outputs": [
    {
     "data": {
      "text/plain": [
       "0.0625"
      ]
     },
     "execution_count": 91,
     "metadata": {},
     "output_type": "execute_result"
    }
   ],
   "source": [
    "1/4 * 1/4"
   ]
  },
  {
   "cell_type": "markdown",
   "id": "a9beb706",
   "metadata": {},
   "source": [
    "4. Codeup students buy, on average, 3 poptart packages with a standard deviation of 1.5 a day from the snack vending machine. If on monday the machine is restocked with 17 poptart packages, how likely is it that I will be able to buy some poptarts on Friday afternoon? (Remember, if you have mean and standard deviation, use the np.random.normal) You'll need to make a judgement call on how to handle some of your values"
   ]
  },
  {
   "cell_type": "code",
   "execution_count": 136,
   "id": "05d647ac",
   "metadata": {},
   "outputs": [
    {
     "data": {
      "text/plain": [
       "array([[2.25905741, 3.52739301, 1.87472659, 2.15701724, 4.45590935],\n",
       "       [2.11714752, 0.24286094, 4.23460354, 5.1751524 , 3.81134148],\n",
       "       [4.94234857, 2.86827027, 5.63717252, 3.97415056, 1.75225497],\n",
       "       ...,\n",
       "       [3.24335737, 1.30413482, 5.27593998, 1.83045817, 2.85923956],\n",
       "       [2.41849874, 4.6518862 , 2.09196637, 2.10118127, 3.60718683],\n",
       "       [2.86370266, 4.3363927 , 4.22234644, 1.49136059, 2.66621503]])"
      ]
     },
     "execution_count": 136,
     "metadata": {},
     "output_type": "execute_result"
    }
   ],
   "source": [
    "mu = 3\n",
    "std = 1.5\n",
    "stock = 17\n",
    "n_trials = 50_000\n",
    "\n",
    "weeks = np.random.normal(mu, std, size=(n_trials, 5))\n",
    "weeks"
   ]
  },
  {
   "cell_type": "code",
   "execution_count": 137,
   "id": "30150a4d",
   "metadata": {},
   "outputs": [
    {
     "data": {
      "text/html": [
       "<div>\n",
       "<style scoped>\n",
       "    .dataframe tbody tr th:only-of-type {\n",
       "        vertical-align: middle;\n",
       "    }\n",
       "\n",
       "    .dataframe tbody tr th {\n",
       "        vertical-align: top;\n",
       "    }\n",
       "\n",
       "    .dataframe thead th {\n",
       "        text-align: right;\n",
       "    }\n",
       "</style>\n",
       "<table border=\"1\" class=\"dataframe\">\n",
       "  <thead>\n",
       "    <tr style=\"text-align: right;\">\n",
       "      <th></th>\n",
       "      <th>m</th>\n",
       "      <th>t</th>\n",
       "      <th>w</th>\n",
       "      <th>th</th>\n",
       "      <th>f</th>\n",
       "    </tr>\n",
       "  </thead>\n",
       "  <tbody>\n",
       "    <tr>\n",
       "      <th>0</th>\n",
       "      <td>2.259057</td>\n",
       "      <td>3.527393</td>\n",
       "      <td>1.874727</td>\n",
       "      <td>2.157017</td>\n",
       "      <td>4.455909</td>\n",
       "    </tr>\n",
       "    <tr>\n",
       "      <th>1</th>\n",
       "      <td>2.117148</td>\n",
       "      <td>0.242861</td>\n",
       "      <td>4.234604</td>\n",
       "      <td>5.175152</td>\n",
       "      <td>3.811341</td>\n",
       "    </tr>\n",
       "    <tr>\n",
       "      <th>2</th>\n",
       "      <td>4.942349</td>\n",
       "      <td>2.868270</td>\n",
       "      <td>5.637173</td>\n",
       "      <td>3.974151</td>\n",
       "      <td>1.752255</td>\n",
       "    </tr>\n",
       "    <tr>\n",
       "      <th>3</th>\n",
       "      <td>4.150095</td>\n",
       "      <td>3.899110</td>\n",
       "      <td>2.711625</td>\n",
       "      <td>3.766183</td>\n",
       "      <td>4.777728</td>\n",
       "    </tr>\n",
       "    <tr>\n",
       "      <th>4</th>\n",
       "      <td>2.526745</td>\n",
       "      <td>3.825469</td>\n",
       "      <td>4.708478</td>\n",
       "      <td>2.949025</td>\n",
       "      <td>3.604114</td>\n",
       "    </tr>\n",
       "  </tbody>\n",
       "</table>\n",
       "</div>"
      ],
      "text/plain": [
       "          m         t         w        th         f\n",
       "0  2.259057  3.527393  1.874727  2.157017  4.455909\n",
       "1  2.117148  0.242861  4.234604  5.175152  3.811341\n",
       "2  4.942349  2.868270  5.637173  3.974151  1.752255\n",
       "3  4.150095  3.899110  2.711625  3.766183  4.777728\n",
       "4  2.526745  3.825469  4.708478  2.949025  3.604114"
      ]
     },
     "execution_count": 137,
     "metadata": {},
     "output_type": "execute_result"
    }
   ],
   "source": [
    "weeks_df = pd.DataFrame(weeks, columns=['m','t','w','th','f'])\n",
    "weeks_df.head()"
   ]
  },
  {
   "cell_type": "code",
   "execution_count": 138,
   "id": "6aff1c89",
   "metadata": {},
   "outputs": [
    {
     "data": {
      "text/html": [
       "<div>\n",
       "<style scoped>\n",
       "    .dataframe tbody tr th:only-of-type {\n",
       "        vertical-align: middle;\n",
       "    }\n",
       "\n",
       "    .dataframe tbody tr th {\n",
       "        vertical-align: top;\n",
       "    }\n",
       "\n",
       "    .dataframe thead th {\n",
       "        text-align: right;\n",
       "    }\n",
       "</style>\n",
       "<table border=\"1\" class=\"dataframe\">\n",
       "  <thead>\n",
       "    <tr style=\"text-align: right;\">\n",
       "      <th></th>\n",
       "      <th>m</th>\n",
       "      <th>t</th>\n",
       "      <th>w</th>\n",
       "      <th>th</th>\n",
       "      <th>f</th>\n",
       "    </tr>\n",
       "  </thead>\n",
       "  <tbody>\n",
       "    <tr>\n",
       "      <th>0</th>\n",
       "      <td>2.0</td>\n",
       "      <td>4.0</td>\n",
       "      <td>2.0</td>\n",
       "      <td>2.0</td>\n",
       "      <td>4.0</td>\n",
       "    </tr>\n",
       "    <tr>\n",
       "      <th>1</th>\n",
       "      <td>2.0</td>\n",
       "      <td>0.0</td>\n",
       "      <td>4.0</td>\n",
       "      <td>5.0</td>\n",
       "      <td>4.0</td>\n",
       "    </tr>\n",
       "    <tr>\n",
       "      <th>2</th>\n",
       "      <td>5.0</td>\n",
       "      <td>3.0</td>\n",
       "      <td>6.0</td>\n",
       "      <td>4.0</td>\n",
       "      <td>2.0</td>\n",
       "    </tr>\n",
       "    <tr>\n",
       "      <th>3</th>\n",
       "      <td>4.0</td>\n",
       "      <td>4.0</td>\n",
       "      <td>3.0</td>\n",
       "      <td>4.0</td>\n",
       "      <td>5.0</td>\n",
       "    </tr>\n",
       "    <tr>\n",
       "      <th>4</th>\n",
       "      <td>3.0</td>\n",
       "      <td>4.0</td>\n",
       "      <td>5.0</td>\n",
       "      <td>3.0</td>\n",
       "      <td>4.0</td>\n",
       "    </tr>\n",
       "  </tbody>\n",
       "</table>\n",
       "</div>"
      ],
      "text/plain": [
       "     m    t    w   th    f\n",
       "0  2.0  4.0  2.0  2.0  4.0\n",
       "1  2.0  0.0  4.0  5.0  4.0\n",
       "2  5.0  3.0  6.0  4.0  2.0\n",
       "3  4.0  4.0  3.0  4.0  5.0\n",
       "4  3.0  4.0  5.0  3.0  4.0"
      ]
     },
     "execution_count": 138,
     "metadata": {},
     "output_type": "execute_result"
    }
   ],
   "source": [
    "# turn negatives into zeros and round all numbers\n",
    "weeks_df = weeks_df.applymap(lambda x: 0 if x < 0 else x).round()\n",
    "weeks_df.head()"
   ]
  },
  {
   "cell_type": "code",
   "execution_count": 139,
   "id": "b30438ea",
   "metadata": {},
   "outputs": [
    {
     "data": {
      "text/html": [
       "<div>\n",
       "<style scoped>\n",
       "    .dataframe tbody tr th:only-of-type {\n",
       "        vertical-align: middle;\n",
       "    }\n",
       "\n",
       "    .dataframe tbody tr th {\n",
       "        vertical-align: top;\n",
       "    }\n",
       "\n",
       "    .dataframe thead th {\n",
       "        text-align: right;\n",
       "    }\n",
       "</style>\n",
       "<table border=\"1\" class=\"dataframe\">\n",
       "  <thead>\n",
       "    <tr style=\"text-align: right;\">\n",
       "      <th></th>\n",
       "      <th>m</th>\n",
       "      <th>t</th>\n",
       "      <th>w</th>\n",
       "      <th>th</th>\n",
       "      <th>f</th>\n",
       "      <th>sum</th>\n",
       "    </tr>\n",
       "  </thead>\n",
       "  <tbody>\n",
       "    <tr>\n",
       "      <th>0</th>\n",
       "      <td>2.0</td>\n",
       "      <td>4.0</td>\n",
       "      <td>2.0</td>\n",
       "      <td>2.0</td>\n",
       "      <td>4.0</td>\n",
       "      <td>14.0</td>\n",
       "    </tr>\n",
       "    <tr>\n",
       "      <th>1</th>\n",
       "      <td>2.0</td>\n",
       "      <td>0.0</td>\n",
       "      <td>4.0</td>\n",
       "      <td>5.0</td>\n",
       "      <td>4.0</td>\n",
       "      <td>15.0</td>\n",
       "    </tr>\n",
       "    <tr>\n",
       "      <th>2</th>\n",
       "      <td>5.0</td>\n",
       "      <td>3.0</td>\n",
       "      <td>6.0</td>\n",
       "      <td>4.0</td>\n",
       "      <td>2.0</td>\n",
       "      <td>20.0</td>\n",
       "    </tr>\n",
       "    <tr>\n",
       "      <th>3</th>\n",
       "      <td>4.0</td>\n",
       "      <td>4.0</td>\n",
       "      <td>3.0</td>\n",
       "      <td>4.0</td>\n",
       "      <td>5.0</td>\n",
       "      <td>20.0</td>\n",
       "    </tr>\n",
       "    <tr>\n",
       "      <th>4</th>\n",
       "      <td>3.0</td>\n",
       "      <td>4.0</td>\n",
       "      <td>5.0</td>\n",
       "      <td>3.0</td>\n",
       "      <td>4.0</td>\n",
       "      <td>19.0</td>\n",
       "    </tr>\n",
       "  </tbody>\n",
       "</table>\n",
       "</div>"
      ],
      "text/plain": [
       "     m    t    w   th    f   sum\n",
       "0  2.0  4.0  2.0  2.0  4.0  14.0\n",
       "1  2.0  0.0  4.0  5.0  4.0  15.0\n",
       "2  5.0  3.0  6.0  4.0  2.0  20.0\n",
       "3  4.0  4.0  3.0  4.0  5.0  20.0\n",
       "4  3.0  4.0  5.0  3.0  4.0  19.0"
      ]
     },
     "execution_count": 139,
     "metadata": {},
     "output_type": "execute_result"
    }
   ],
   "source": [
    "weeks_df['sum'] = weeks_df.sum(axis=1)\n",
    "weeks_df.head()"
   ]
  },
  {
   "cell_type": "code",
   "execution_count": 140,
   "id": "38b8b12e",
   "metadata": {},
   "outputs": [],
   "source": [
    "weeks_df['still_poptarts'] = (17 - weeks_df['sum']) > 0"
   ]
  },
  {
   "cell_type": "code",
   "execution_count": 141,
   "id": "5e9fc3f7",
   "metadata": {},
   "outputs": [
    {
     "data": {
      "text/plain": [
       "0.66642"
      ]
     },
     "execution_count": 141,
     "metadata": {},
     "output_type": "execute_result"
    }
   ],
   "source": [
    "weeks_df['still_poptarts'].mean()"
   ]
  },
  {
   "cell_type": "markdown",
   "id": "f2c35921",
   "metadata": {},
   "source": [
    "5. Compare Heights\n",
    "\n",
    "    - Men have an average height of 178 cm and standard deviation of 8cm.\n",
    "    - Women have a mean of 170, sd = 6cm.\n",
    "    - Since you have means and standard deviations, you can use np.random.normal to generate observations.\n",
    "    - If a man and woman are chosen at random, what is the likelihood the woman is taller than the man?"
   ]
  },
  {
   "cell_type": "code",
   "execution_count": 95,
   "id": "dcab1a1a",
   "metadata": {},
   "outputs": [],
   "source": [
    "men_mu = 178\n",
    "women_mu = 170\n",
    "men_std = 8\n",
    "women_std = 6\n",
    "n_trials = 20_000\n",
    "\n",
    "men = np.random.normal(men_mu, men_std, size=(n_trials))\n",
    "women = np.random.normal(women_mu, women_std, size=(n_trials))"
   ]
  },
  {
   "cell_type": "code",
   "execution_count": 100,
   "id": "c9f24cee",
   "metadata": {},
   "outputs": [
    {
     "data": {
      "text/html": [
       "<div>\n",
       "<style scoped>\n",
       "    .dataframe tbody tr th:only-of-type {\n",
       "        vertical-align: middle;\n",
       "    }\n",
       "\n",
       "    .dataframe tbody tr th {\n",
       "        vertical-align: top;\n",
       "    }\n",
       "\n",
       "    .dataframe thead th {\n",
       "        text-align: right;\n",
       "    }\n",
       "</style>\n",
       "<table border=\"1\" class=\"dataframe\">\n",
       "  <thead>\n",
       "    <tr style=\"text-align: right;\">\n",
       "      <th></th>\n",
       "      <th>men</th>\n",
       "      <th>women</th>\n",
       "      <th>women_is_taller</th>\n",
       "    </tr>\n",
       "  </thead>\n",
       "  <tbody>\n",
       "    <tr>\n",
       "      <th>0</th>\n",
       "      <td>196.453515</td>\n",
       "      <td>159.291111</td>\n",
       "      <td>False</td>\n",
       "    </tr>\n",
       "    <tr>\n",
       "      <th>1</th>\n",
       "      <td>172.456320</td>\n",
       "      <td>167.107909</td>\n",
       "      <td>False</td>\n",
       "    </tr>\n",
       "    <tr>\n",
       "      <th>2</th>\n",
       "      <td>171.024983</td>\n",
       "      <td>175.935579</td>\n",
       "      <td>True</td>\n",
       "    </tr>\n",
       "    <tr>\n",
       "      <th>3</th>\n",
       "      <td>196.312403</td>\n",
       "      <td>169.840865</td>\n",
       "      <td>False</td>\n",
       "    </tr>\n",
       "    <tr>\n",
       "      <th>4</th>\n",
       "      <td>176.080686</td>\n",
       "      <td>169.284031</td>\n",
       "      <td>False</td>\n",
       "    </tr>\n",
       "  </tbody>\n",
       "</table>\n",
       "</div>"
      ],
      "text/plain": [
       "          men       women  women_is_taller\n",
       "0  196.453515  159.291111            False\n",
       "1  172.456320  167.107909            False\n",
       "2  171.024983  175.935579             True\n",
       "3  196.312403  169.840865            False\n",
       "4  176.080686  169.284031            False"
      ]
     },
     "execution_count": 100,
     "metadata": {},
     "output_type": "execute_result"
    }
   ],
   "source": [
    "data = {'men': men, 'women': women}\n",
    "df = pd.DataFrame(data)\n",
    "df['women_is_taller'] = df['women'] > df['men']\n",
    "df.head()"
   ]
  },
  {
   "cell_type": "code",
   "execution_count": 101,
   "id": "4df2e3f1",
   "metadata": {},
   "outputs": [
    {
     "data": {
      "text/plain": [
       "0.2145"
      ]
     },
     "execution_count": 101,
     "metadata": {},
     "output_type": "execute_result"
    }
   ],
   "source": [
    "df['women_is_taller'].mean()"
   ]
  },
  {
   "cell_type": "markdown",
   "id": "4d6a1a60",
   "metadata": {},
   "source": [
    "True likelihood listed below."
   ]
  },
  {
   "cell_type": "code",
   "execution_count": 102,
   "id": "6d28e1a0",
   "metadata": {},
   "outputs": [
    {
     "name": "stdout",
     "output_type": "stream",
     "text": [
      "The likelihood that a woman is taller than a man is: 0.21185539858339664\n"
     ]
    }
   ],
   "source": [
    "import scipy.stats as stats\n",
    "\n",
    "men_mean = 178\n",
    "men_std = 8\n",
    "women_mean = 170\n",
    "women_std = 6\n",
    "\n",
    "# Calculate the z-score for a woman's height being taller than a man's height\n",
    "z_score = (men_mean - women_mean) / np.sqrt(men_std**2 + women_std**2)\n",
    "\n",
    "# Calculate the probability using the cumulative distribution function (CDF)\n",
    "probability = 1 - stats.norm.cdf(z_score)\n",
    "\n",
    "print(\"The likelihood that a woman is taller than a man is:\", probability)"
   ]
  },
  {
   "cell_type": "markdown",
   "id": "c9c7b88f",
   "metadata": {},
   "source": [
    "6. When installing anaconda on a student's computer, there's a 1 in 250 chance that the download is corrupted and the installation fails. What are the odds that after having 50 students download anaconda, no one has an installation issue? 100 students?\n",
    "\n",
    "    What is the probability that we observe an installation issue within the first 150 students that download anaconda?\n",
    "\n",
    "    How likely is it that 450 students all download anaconda without an issue?"
   ]
  },
  {
   "cell_type": "code",
   "execution_count": null,
   "id": "89621113",
   "metadata": {},
   "outputs": [],
   "source": [
    "n_trials = 20_000\n",
    "n_students = 50\n",
    "\n",
    "outcomes = ['good', 'corrupted']\n",
    "p_corrupted = 1/250\n",
    "probabilities = [ 1 - p_corrupted , p_corrupted ]\n",
    "\n",
    "selections = np.random.choice(outcomes, size=(n_trials, n_students), p=probabilities)\n",
    "selections_df = pd.DataFrame(selections)\n",
    "selections_df['any_corrupted'] = selections_df.apply(lambda row: (row == 'corrupted').any(),\n",
    "                                                     axis=1)\n",
    "selections_df['any_corrupted'].mean()\n",
    "\n"
   ]
  },
  {
   "cell_type": "code",
   "execution_count": 160,
   "id": "19173f64",
   "metadata": {},
   "outputs": [
    {
     "name": "stdout",
     "output_type": "stream",
     "text": [
      "first 50 students: 17.92% likelihood of having at least one corruption.\n",
      "first 100 students: 32.92% likelihood of having at least one corruption.\n",
      "first 150 students: 45.95% likelihood of having at least one corruption.\n",
      "first 450 students: 83.4% likelihood of having at least one corruption.\n"
     ]
    }
   ],
   "source": [
    "totals = [50, 100, 150, 450]\n",
    "n_trials = 20_000\n",
    "for total in totals:\n",
    "\n",
    "    n_students = total\n",
    "\n",
    "    outcomes = ['good', 'corrupted']\n",
    "    p_corrupted = 1/250\n",
    "    probabilities = [ 1 - p_corrupted , p_corrupted ] \n",
    "\n",
    "    selections = np.random.choice(outcomes, size=(n_trials, n_students), p=probabilities)\n",
    "    selections_df = pd.DataFrame(selections)\n",
    "    selections_df['any_corrupted'] = selections_df.apply(lambda row: (row == 'corrupted').any(),\n",
    "                                                         axis=1)\n",
    "    p_hat = selections_df['any_corrupted'].mean()\n",
    "    print(f'first {total} students: {round(p_hat*100, 2)}% likelihood of having at least one corruption.')"
   ]
  },
  {
   "cell_type": "markdown",
   "id": "03a64242",
   "metadata": {},
   "source": [
    "7. There's a 70% chance on any given day that there will be at least one food truck at Travis Park. However, you haven't seen a food truck there in 3 days. How unlikely is this?\n",
    "\n",
    "    How likely is it that a food truck will show up sometime this week?"
   ]
  },
  {
   "cell_type": "code",
   "execution_count": 167,
   "id": "8e1ec679",
   "metadata": {},
   "outputs": [
    {
     "name": "stdout",
     "output_type": "stream",
     "text": [
      "0.0281\n",
      "0.9719\n"
     ]
    }
   ],
   "source": [
    "n_trials = 20_000\n",
    "n_days = 3\n",
    "\n",
    "outcomes = ['truck', 'no truck']\n",
    "p_truck = .7\n",
    "probabilities = [ p_truck , 1 - p_truck ]\n",
    "\n",
    "\n",
    "trials = np.random.choice(outcomes, size=(n_trials, n_days), p=probabilities)\n",
    "trials_df = pd.DataFrame(trials)\n",
    "trials_df['no_trucks'] = trials_df.apply(lambda row: (row == 'no truck').all(),\n",
    "                                                     axis=1)\n",
    "# proportion of trials having no trucks in 3 days\n",
    "print(trials_df['no_trucks'].mean())\n",
    "\n",
    "# proportion of trials having at least 1 truck in 3 days\n",
    "print(1 - trials_df['no_trucks'].mean())"
   ]
  },
  {
   "cell_type": "code",
   "execution_count": 169,
   "id": "b937e605",
   "metadata": {},
   "outputs": [
    {
     "data": {
      "text/plain": [
       "0.026999999999999996"
      ]
     },
     "execution_count": 169,
     "metadata": {},
     "output_type": "execute_result"
    }
   ],
   "source": [
    "# true likelyhood of no trucks\n",
    ".30 ** 3"
   ]
  },
  {
   "cell_type": "markdown",
   "id": "fe3e82ab",
   "metadata": {},
   "source": [
    "8. If 23 people are in the same room, what are the odds that two of them share a birthday? What if it's 20 people? 40?"
   ]
  },
  {
   "cell_type": "code",
   "execution_count": 227,
   "id": "0419caa3",
   "metadata": {},
   "outputs": [
    {
     "data": {
      "text/html": [
       "<div>\n",
       "<style scoped>\n",
       "    .dataframe tbody tr th:only-of-type {\n",
       "        vertical-align: middle;\n",
       "    }\n",
       "\n",
       "    .dataframe tbody tr th {\n",
       "        vertical-align: top;\n",
       "    }\n",
       "\n",
       "    .dataframe thead th {\n",
       "        text-align: right;\n",
       "    }\n",
       "</style>\n",
       "<table border=\"1\" class=\"dataframe\">\n",
       "  <thead>\n",
       "    <tr style=\"text-align: right;\">\n",
       "      <th></th>\n",
       "      <th>0</th>\n",
       "      <th>1</th>\n",
       "      <th>2</th>\n",
       "      <th>3</th>\n",
       "      <th>4</th>\n",
       "      <th>5</th>\n",
       "      <th>6</th>\n",
       "      <th>7</th>\n",
       "      <th>8</th>\n",
       "      <th>9</th>\n",
       "      <th>...</th>\n",
       "      <th>14</th>\n",
       "      <th>15</th>\n",
       "      <th>16</th>\n",
       "      <th>17</th>\n",
       "      <th>18</th>\n",
       "      <th>19</th>\n",
       "      <th>20</th>\n",
       "      <th>21</th>\n",
       "      <th>22</th>\n",
       "      <th>not_all_distinct</th>\n",
       "    </tr>\n",
       "  </thead>\n",
       "  <tbody>\n",
       "    <tr>\n",
       "      <th>0</th>\n",
       "      <td>60</td>\n",
       "      <td>267</td>\n",
       "      <td>112</td>\n",
       "      <td>61</td>\n",
       "      <td>224</td>\n",
       "      <td>70</td>\n",
       "      <td>205</td>\n",
       "      <td>190</td>\n",
       "      <td>4</td>\n",
       "      <td>25</td>\n",
       "      <td>...</td>\n",
       "      <td>210</td>\n",
       "      <td>129</td>\n",
       "      <td>130</td>\n",
       "      <td>337</td>\n",
       "      <td>23</td>\n",
       "      <td>326</td>\n",
       "      <td>184</td>\n",
       "      <td>211</td>\n",
       "      <td>225</td>\n",
       "      <td>False</td>\n",
       "    </tr>\n",
       "    <tr>\n",
       "      <th>1</th>\n",
       "      <td>220</td>\n",
       "      <td>336</td>\n",
       "      <td>179</td>\n",
       "      <td>145</td>\n",
       "      <td>297</td>\n",
       "      <td>59</td>\n",
       "      <td>288</td>\n",
       "      <td>266</td>\n",
       "      <td>239</td>\n",
       "      <td>284</td>\n",
       "      <td>...</td>\n",
       "      <td>107</td>\n",
       "      <td>168</td>\n",
       "      <td>1</td>\n",
       "      <td>150</td>\n",
       "      <td>239</td>\n",
       "      <td>201</td>\n",
       "      <td>165</td>\n",
       "      <td>59</td>\n",
       "      <td>92</td>\n",
       "      <td>True</td>\n",
       "    </tr>\n",
       "    <tr>\n",
       "      <th>2</th>\n",
       "      <td>340</td>\n",
       "      <td>89</td>\n",
       "      <td>354</td>\n",
       "      <td>239</td>\n",
       "      <td>127</td>\n",
       "      <td>263</td>\n",
       "      <td>299</td>\n",
       "      <td>361</td>\n",
       "      <td>313</td>\n",
       "      <td>209</td>\n",
       "      <td>...</td>\n",
       "      <td>142</td>\n",
       "      <td>28</td>\n",
       "      <td>349</td>\n",
       "      <td>169</td>\n",
       "      <td>22</td>\n",
       "      <td>291</td>\n",
       "      <td>259</td>\n",
       "      <td>53</td>\n",
       "      <td>224</td>\n",
       "      <td>True</td>\n",
       "    </tr>\n",
       "    <tr>\n",
       "      <th>3</th>\n",
       "      <td>348</td>\n",
       "      <td>59</td>\n",
       "      <td>273</td>\n",
       "      <td>299</td>\n",
       "      <td>345</td>\n",
       "      <td>246</td>\n",
       "      <td>261</td>\n",
       "      <td>141</td>\n",
       "      <td>65</td>\n",
       "      <td>191</td>\n",
       "      <td>...</td>\n",
       "      <td>10</td>\n",
       "      <td>265</td>\n",
       "      <td>241</td>\n",
       "      <td>19</td>\n",
       "      <td>34</td>\n",
       "      <td>156</td>\n",
       "      <td>341</td>\n",
       "      <td>130</td>\n",
       "      <td>14</td>\n",
       "      <td>True</td>\n",
       "    </tr>\n",
       "    <tr>\n",
       "      <th>4</th>\n",
       "      <td>173</td>\n",
       "      <td>352</td>\n",
       "      <td>119</td>\n",
       "      <td>97</td>\n",
       "      <td>184</td>\n",
       "      <td>27</td>\n",
       "      <td>326</td>\n",
       "      <td>9</td>\n",
       "      <td>354</td>\n",
       "      <td>306</td>\n",
       "      <td>...</td>\n",
       "      <td>29</td>\n",
       "      <td>103</td>\n",
       "      <td>351</td>\n",
       "      <td>308</td>\n",
       "      <td>289</td>\n",
       "      <td>272</td>\n",
       "      <td>204</td>\n",
       "      <td>197</td>\n",
       "      <td>311</td>\n",
       "      <td>False</td>\n",
       "    </tr>\n",
       "    <tr>\n",
       "      <th>...</th>\n",
       "      <td>...</td>\n",
       "      <td>...</td>\n",
       "      <td>...</td>\n",
       "      <td>...</td>\n",
       "      <td>...</td>\n",
       "      <td>...</td>\n",
       "      <td>...</td>\n",
       "      <td>...</td>\n",
       "      <td>...</td>\n",
       "      <td>...</td>\n",
       "      <td>...</td>\n",
       "      <td>...</td>\n",
       "      <td>...</td>\n",
       "      <td>...</td>\n",
       "      <td>...</td>\n",
       "      <td>...</td>\n",
       "      <td>...</td>\n",
       "      <td>...</td>\n",
       "      <td>...</td>\n",
       "      <td>...</td>\n",
       "      <td>...</td>\n",
       "    </tr>\n",
       "    <tr>\n",
       "      <th>19995</th>\n",
       "      <td>281</td>\n",
       "      <td>362</td>\n",
       "      <td>54</td>\n",
       "      <td>296</td>\n",
       "      <td>97</td>\n",
       "      <td>149</td>\n",
       "      <td>34</td>\n",
       "      <td>314</td>\n",
       "      <td>216</td>\n",
       "      <td>208</td>\n",
       "      <td>...</td>\n",
       "      <td>194</td>\n",
       "      <td>248</td>\n",
       "      <td>247</td>\n",
       "      <td>323</td>\n",
       "      <td>95</td>\n",
       "      <td>304</td>\n",
       "      <td>216</td>\n",
       "      <td>253</td>\n",
       "      <td>185</td>\n",
       "      <td>True</td>\n",
       "    </tr>\n",
       "    <tr>\n",
       "      <th>19996</th>\n",
       "      <td>353</td>\n",
       "      <td>232</td>\n",
       "      <td>104</td>\n",
       "      <td>69</td>\n",
       "      <td>123</td>\n",
       "      <td>364</td>\n",
       "      <td>85</td>\n",
       "      <td>37</td>\n",
       "      <td>40</td>\n",
       "      <td>233</td>\n",
       "      <td>...</td>\n",
       "      <td>195</td>\n",
       "      <td>132</td>\n",
       "      <td>201</td>\n",
       "      <td>157</td>\n",
       "      <td>365</td>\n",
       "      <td>322</td>\n",
       "      <td>341</td>\n",
       "      <td>282</td>\n",
       "      <td>64</td>\n",
       "      <td>False</td>\n",
       "    </tr>\n",
       "    <tr>\n",
       "      <th>19997</th>\n",
       "      <td>364</td>\n",
       "      <td>190</td>\n",
       "      <td>361</td>\n",
       "      <td>97</td>\n",
       "      <td>246</td>\n",
       "      <td>151</td>\n",
       "      <td>111</td>\n",
       "      <td>365</td>\n",
       "      <td>225</td>\n",
       "      <td>155</td>\n",
       "      <td>...</td>\n",
       "      <td>255</td>\n",
       "      <td>284</td>\n",
       "      <td>108</td>\n",
       "      <td>314</td>\n",
       "      <td>73</td>\n",
       "      <td>70</td>\n",
       "      <td>8</td>\n",
       "      <td>32</td>\n",
       "      <td>337</td>\n",
       "      <td>False</td>\n",
       "    </tr>\n",
       "    <tr>\n",
       "      <th>19998</th>\n",
       "      <td>320</td>\n",
       "      <td>313</td>\n",
       "      <td>343</td>\n",
       "      <td>234</td>\n",
       "      <td>30</td>\n",
       "      <td>120</td>\n",
       "      <td>243</td>\n",
       "      <td>223</td>\n",
       "      <td>352</td>\n",
       "      <td>281</td>\n",
       "      <td>...</td>\n",
       "      <td>235</td>\n",
       "      <td>135</td>\n",
       "      <td>66</td>\n",
       "      <td>360</td>\n",
       "      <td>98</td>\n",
       "      <td>238</td>\n",
       "      <td>357</td>\n",
       "      <td>62</td>\n",
       "      <td>166</td>\n",
       "      <td>True</td>\n",
       "    </tr>\n",
       "    <tr>\n",
       "      <th>19999</th>\n",
       "      <td>258</td>\n",
       "      <td>287</td>\n",
       "      <td>150</td>\n",
       "      <td>66</td>\n",
       "      <td>194</td>\n",
       "      <td>223</td>\n",
       "      <td>361</td>\n",
       "      <td>18</td>\n",
       "      <td>201</td>\n",
       "      <td>224</td>\n",
       "      <td>...</td>\n",
       "      <td>9</td>\n",
       "      <td>209</td>\n",
       "      <td>209</td>\n",
       "      <td>37</td>\n",
       "      <td>264</td>\n",
       "      <td>323</td>\n",
       "      <td>133</td>\n",
       "      <td>225</td>\n",
       "      <td>314</td>\n",
       "      <td>True</td>\n",
       "    </tr>\n",
       "  </tbody>\n",
       "</table>\n",
       "<p>20000 rows × 24 columns</p>\n",
       "</div>"
      ],
      "text/plain": [
       "         0    1    2    3    4    5    6    7    8    9  ...   14   15   16  \\\n",
       "0       60  267  112   61  224   70  205  190    4   25  ...  210  129  130   \n",
       "1      220  336  179  145  297   59  288  266  239  284  ...  107  168    1   \n",
       "2      340   89  354  239  127  263  299  361  313  209  ...  142   28  349   \n",
       "3      348   59  273  299  345  246  261  141   65  191  ...   10  265  241   \n",
       "4      173  352  119   97  184   27  326    9  354  306  ...   29  103  351   \n",
       "...    ...  ...  ...  ...  ...  ...  ...  ...  ...  ...  ...  ...  ...  ...   \n",
       "19995  281  362   54  296   97  149   34  314  216  208  ...  194  248  247   \n",
       "19996  353  232  104   69  123  364   85   37   40  233  ...  195  132  201   \n",
       "19997  364  190  361   97  246  151  111  365  225  155  ...  255  284  108   \n",
       "19998  320  313  343  234   30  120  243  223  352  281  ...  235  135   66   \n",
       "19999  258  287  150   66  194  223  361   18  201  224  ...    9  209  209   \n",
       "\n",
       "        17   18   19   20   21   22  not_all_distinct  \n",
       "0      337   23  326  184  211  225             False  \n",
       "1      150  239  201  165   59   92              True  \n",
       "2      169   22  291  259   53  224              True  \n",
       "3       19   34  156  341  130   14              True  \n",
       "4      308  289  272  204  197  311             False  \n",
       "...    ...  ...  ...  ...  ...  ...               ...  \n",
       "19995  323   95  304  216  253  185              True  \n",
       "19996  157  365  322  341  282   64             False  \n",
       "19997  314   73   70    8   32  337             False  \n",
       "19998  360   98  238  357   62  166              True  \n",
       "19999   37  264  323  133  225  314              True  \n",
       "\n",
       "[20000 rows x 24 columns]"
      ]
     },
     "execution_count": 227,
     "metadata": {},
     "output_type": "execute_result"
    }
   ],
   "source": [
    "n_trials = 20_000\n",
    "n_people = 23\n",
    "\n",
    "outcomes = np.arange(1, 366)\n",
    "\n",
    "trials = np.random.choice(outcomes, size=(n_trials, n_people))\n",
    "trials_df = pd.DataFrame(trials)\n",
    "trials_df['not_all_distinct'] = trials_df.apply(lambda row: len(row) != len(set(row)), axis=1)\n",
    "\n",
    "trials_df"
   ]
  },
  {
   "cell_type": "code",
   "execution_count": 229,
   "id": "73d36387",
   "metadata": {},
   "outputs": [
    {
     "data": {
      "text/plain": [
       "0.49260000000000004"
      ]
     },
     "execution_count": 229,
     "metadata": {},
     "output_type": "execute_result"
    }
   ],
   "source": [
    "1 - trials_df['not_all_distinct'].mean()"
   ]
  },
  {
   "cell_type": "code",
   "execution_count": 231,
   "id": "5a7f7fc0",
   "metadata": {},
   "outputs": [
    {
     "name": "stdout",
     "output_type": "stream",
     "text": [
      "0.11755 proportion of trials\n",
      "            with 10 people had a common birthday\n",
      "0.51165 proportion of trials\n",
      "            with 23 people had a common birthday\n",
      "0.41345 proportion of trials\n",
      "            with 20 people had a common birthday\n",
      "0.8892 proportion of trials\n",
      "            with 40 people had a common birthday\n",
      "0.96985 proportion of trials\n",
      "            with 50 people had a common birthday\n"
     ]
    }
   ],
   "source": [
    "totals = [10, 23, 20, 40, 50]\n",
    "n_trials = 20_000\n",
    "outcomes = np.arange(1, 366)\n",
    "\n",
    "\n",
    "for total in totals:\n",
    "    outcomes = np.arange(1, 366)\n",
    "\n",
    "    trials = np.random.choice(outcomes, size=(n_trials, total))\n",
    "    trials_df = pd.DataFrame(trials)\n",
    "    trials_df['not_all_distinct'] = \\\n",
    "                    trials_df.apply(lambda row: len(row) != len(set(row)), axis=1)\n",
    "\n",
    "    \n",
    "    print(f\"\"\"{trials_df['not_all_distinct'].mean()} proportion of trials\n",
    "            with {total} people had a common birthday\"\"\")"
   ]
  }
 ],
 "metadata": {
  "kernelspec": {
   "display_name": "Python 3 (ipykernel)",
   "language": "python",
   "name": "python3"
  },
  "language_info": {
   "codemirror_mode": {
    "name": "ipython",
    "version": 3
   },
   "file_extension": ".py",
   "mimetype": "text/x-python",
   "name": "python",
   "nbconvert_exporter": "python",
   "pygments_lexer": "ipython3",
   "version": "3.10.9"
  },
  "varInspector": {
   "cols": {
    "lenName": 16,
    "lenType": 16,
    "lenVar": 40
   },
   "kernels_config": {
    "python": {
     "delete_cmd_postfix": "",
     "delete_cmd_prefix": "del ",
     "library": "var_list.py",
     "varRefreshCmd": "print(var_dic_list())"
    },
    "r": {
     "delete_cmd_postfix": ") ",
     "delete_cmd_prefix": "rm(",
     "library": "var_list.r",
     "varRefreshCmd": "cat(var_dic_list()) "
    }
   },
   "types_to_exclude": [
    "module",
    "function",
    "builtin_function_or_method",
    "instance",
    "_Feature"
   ],
   "window_display": false
  }
 },
 "nbformat": 4,
 "nbformat_minor": 5
}
