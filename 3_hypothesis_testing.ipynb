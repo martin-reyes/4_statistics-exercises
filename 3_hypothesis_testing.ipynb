{
 "cells": [
  {
   "cell_type": "code",
   "execution_count": 1,
   "id": "24feebca",
   "metadata": {},
   "outputs": [],
   "source": [
    "import pandas as pd\n",
    "import matplotlib.pyplot as plt\n",
    "import seaborn as sns"
   ]
  },
  {
   "cell_type": "markdown",
   "id": "fb4ec62d",
   "metadata": {},
   "source": [
    "### Overview\n",
    "\n",
    "For each of the following questions, formulate a null and alternative hypothesis (be as specific as you can be), then give an example of what a true positive, true negative, type I and type II errors would look like. Note that some of the questions are intentionally phrased in a vague way. It is your job to reword these as more precise questions that could be tested.\n",
    "\n"
   ]
  },
  {
   "cell_type": "markdown",
   "id": "1e46db1f",
   "metadata": {},
   "source": [
    "**Has the network latency gone up since we switched internet service providers?**\n",
    "\n",
    "**Reword:** Is *network latency* greater with our current internet service provider than our previous.\n",
    "\n",
    "- $H_0$: $\\mu_{current-isr} = \\mu_{prev-isr}$\n",
    "- $H_a$: $\\mu_{current-isr} > \\mu_{prev-isr}$\n",
    "- true positive: We correctly conclude there is enough evidence to suggest there is a difference\n",
    "- true negative: We correctly conclude there is not enough evidence to suggest there is a difference\n",
    "- type I errror (FP): We incorrectly conclude there is enough evidence to suggest there is a difference when there is\n",
    "- type II error (FN): We incorrectly conclude there is not enough evidence to suggest there is a difference when there is"
   ]
  },
  {
   "cell_type": "markdown",
   "id": "43549ea5",
   "metadata": {},
   "source": [
    "**Is the website redesign any good?**\n",
    "\n",
    "- $H_0$: $\\mu_{new} = \\mu_{old}$\n",
    "- $H_a$: $\\mu_{new} > \\mu_{old}$\n",
    "- true positive: We correctly conclude there is enough evidence to suggest there is a difference\n",
    "- true negative: We correctly conclude there is not enough evidence to suggest there is a difference\n",
    "- type I errror (FP): We incorrectly conclude there is enough evidence to suggest there is a difference when there is\n",
    "- type II error (FN): We incorrectly conclude there is not enough evidence to suggest there is a difference when there is"
   ]
  },
  {
   "cell_type": "markdown",
   "id": "b79c2d22",
   "metadata": {},
   "source": [
    "**Is our television ad driving more sales?**\n",
    "\n",
    "**Reword:** Are *sales* greater with (after) our ad out?\n",
    "\n",
    "- $H_0$: $\\mu_{ad} = \\mu_{no-ad}$\n",
    "- $H_a$: $\\mu_{ad} > \\mu_{no-ad}$\n",
    "- true positive: We correctly conclude there is enough evidence to suggest there is a difference\n",
    "- true negative: We correctly conclude there is not enough evidence to suggest there is a difference\n",
    "- type I errror (FP): We incorrectly conclude there is enough evidence to suggest there is a difference when there is\n",
    "- type II error (FN): We incorrectly conclude there is not enough evidence to suggest there is a difference when there is"
   ]
  },
  {
   "cell_type": "markdown",
   "id": "e77e4acf",
   "metadata": {},
   "source": [
    "### Comparison of Means\n",
    "\n",
    "**1.** Answer with the type of test you would use (assume normal distribution):\n",
    "\n",
    "- Is there a difference in grades of students on the second floor compared to grades of all students?\n",
    "\n",
    "- Are adults who drink milk taller than adults who dont drink milk?\n",
    "- Is the the price of gas higher in texas or in new mexico?\n",
    "- Are there differences in stress levels between students who take data science vs students who take web development vs students who take cloud academy?"
   ]
  },
  {
   "cell_type": "code",
   "execution_count": null,
   "id": "57a4626c",
   "metadata": {},
   "outputs": [],
   "source": []
  },
  {
   "cell_type": "markdown",
   "id": "74556b77",
   "metadata": {},
   "source": [
    "**2.** Ace Realty wants to determine whether the average time it takes to sell homes is different for its two offices. A sample of 40 sales from office #1 revealed a mean of 90 days and a standard deviation of 15 days. A sample of 50 sales from office #2 revealed a mean of 100 days and a standard deviation of 20 days. Use a .05 level of significance."
   ]
  },
  {
   "cell_type": "code",
   "execution_count": null,
   "id": "5f4c39b5",
   "metadata": {},
   "outputs": [],
   "source": []
  },
  {
   "cell_type": "markdown",
   "id": "46f8fc44",
   "metadata": {},
   "source": [
    "**3.** Load the mpg dataset and use it to answer the following questions:"
   ]
  },
  {
   "cell_type": "code",
   "execution_count": 6,
   "id": "19b1d21b",
   "metadata": {},
   "outputs": [
    {
     "name": "stdout",
     "output_type": "stream",
     "text": [
      "[70 71 72 73 74 75 76 77 78 79 80 81 82]\n"
     ]
    },
    {
     "data": {
      "text/html": [
       "<div>\n",
       "<style scoped>\n",
       "    .dataframe tbody tr th:only-of-type {\n",
       "        vertical-align: middle;\n",
       "    }\n",
       "\n",
       "    .dataframe tbody tr th {\n",
       "        vertical-align: top;\n",
       "    }\n",
       "\n",
       "    .dataframe thead th {\n",
       "        text-align: right;\n",
       "    }\n",
       "</style>\n",
       "<table border=\"1\" class=\"dataframe\">\n",
       "  <thead>\n",
       "    <tr style=\"text-align: right;\">\n",
       "      <th></th>\n",
       "      <th>mpg</th>\n",
       "      <th>cylinders</th>\n",
       "      <th>displacement</th>\n",
       "      <th>horsepower</th>\n",
       "      <th>weight</th>\n",
       "      <th>acceleration</th>\n",
       "      <th>model_year</th>\n",
       "      <th>origin</th>\n",
       "      <th>name</th>\n",
       "    </tr>\n",
       "  </thead>\n",
       "  <tbody>\n",
       "    <tr>\n",
       "      <th>395</th>\n",
       "      <td>32.0</td>\n",
       "      <td>4</td>\n",
       "      <td>135.0</td>\n",
       "      <td>84.0</td>\n",
       "      <td>2295</td>\n",
       "      <td>11.6</td>\n",
       "      <td>82</td>\n",
       "      <td>usa</td>\n",
       "      <td>dodge rampage</td>\n",
       "    </tr>\n",
       "    <tr>\n",
       "      <th>396</th>\n",
       "      <td>28.0</td>\n",
       "      <td>4</td>\n",
       "      <td>120.0</td>\n",
       "      <td>79.0</td>\n",
       "      <td>2625</td>\n",
       "      <td>18.6</td>\n",
       "      <td>82</td>\n",
       "      <td>usa</td>\n",
       "      <td>ford ranger</td>\n",
       "    </tr>\n",
       "    <tr>\n",
       "      <th>397</th>\n",
       "      <td>31.0</td>\n",
       "      <td>4</td>\n",
       "      <td>119.0</td>\n",
       "      <td>82.0</td>\n",
       "      <td>2720</td>\n",
       "      <td>19.4</td>\n",
       "      <td>82</td>\n",
       "      <td>usa</td>\n",
       "      <td>chevy s-10</td>\n",
       "    </tr>\n",
       "  </tbody>\n",
       "</table>\n",
       "</div>"
      ],
      "text/plain": [
       "      mpg  cylinders  displacement  horsepower  weight  acceleration  \\\n",
       "395  32.0          4         135.0        84.0    2295          11.6   \n",
       "396  28.0          4         120.0        79.0    2625          18.6   \n",
       "397  31.0          4         119.0        82.0    2720          19.4   \n",
       "\n",
       "     model_year origin           name  \n",
       "395          82    usa  dodge rampage  \n",
       "396          82    usa    ford ranger  \n",
       "397          82    usa     chevy s-10  "
      ]
     },
     "execution_count": 6,
     "metadata": {},
     "output_type": "execute_result"
    }
   ],
   "source": [
    "mpg_df = sns.load_dataset('mpg')\n",
    "print(mpg_df['model_year'].unique())\n",
    "mpg_df.tail(3)"
   ]
  },
  {
   "cell_type": "markdown",
   "id": "dfdc937d",
   "metadata": {},
   "source": [
    "Is there a difference in fuel-efficiency in cars from 2008 vs 1999?\n"
   ]
  },
  {
   "cell_type": "code",
   "execution_count": null,
   "id": "b0a25ef2",
   "metadata": {},
   "outputs": [],
   "source": [
    "mpg_08 = mpg[mpg['model_year'] == 2008]\n",
    "p_hat_08 = mpg_08['mpg'].mean()\n",
    "\n",
    "mpg_99 = mpg[mpg['model_year'] == 1999]\n",
    "p_hat_99 = mpg_99['mpg'].mean()"
   ]
  },
  {
   "cell_type": "markdown",
   "id": "5b08bf0b",
   "metadata": {},
   "source": [
    "Are compact cars more fuel-efficient than the average car?\n"
   ]
  },
  {
   "cell_type": "code",
   "execution_count": null,
   "id": "1f62d54f",
   "metadata": {},
   "outputs": [],
   "source": []
  },
  {
   "cell_type": "markdown",
   "id": "4ca7667e",
   "metadata": {},
   "source": [
    "Do manual cars get better gas mileage than automatic cars?"
   ]
  },
  {
   "cell_type": "code",
   "execution_count": null,
   "id": "f6d2b1e1",
   "metadata": {},
   "outputs": [],
   "source": []
  },
  {
   "cell_type": "markdown",
   "id": "79a8c13d",
   "metadata": {},
   "source": [
    "### Correlation\n",
    "\n",
    "**1.** Answer with the type of stats test you would use (assume normal distribution):\n",
    "- Is there a relationship between the length of your arm and the length of your foot?\n",
    "- Do guys and gals quit their jobs at the same rate?\n",
    "- Does the length of time of the lecture correlate with a students grade?"
   ]
  },
  {
   "cell_type": "code",
   "execution_count": null,
   "id": "f99c2c1d",
   "metadata": {},
   "outputs": [],
   "source": []
  },
  {
   "cell_type": "markdown",
   "id": "689a0655",
   "metadata": {},
   "source": [
    "**2.** Use the telco_churn data.\n",
    "- Does tenure correlate with monthly charges?\n",
    "- Total charges?\n",
    "- What happens if you control for phone and internet service?"
   ]
  },
  {
   "cell_type": "code",
   "execution_count": null,
   "id": "4b319b17",
   "metadata": {},
   "outputs": [],
   "source": []
  },
  {
   "cell_type": "markdown",
   "id": "eed13524",
   "metadata": {},
   "source": [
    "**3.** Use the employees database.\n",
    "- Is there a relationship between how long an employee has been with the company and their salary?\n",
    "- Is there a relationship between how long an employee has been with the company and the number of titles they have had?"
   ]
  },
  {
   "cell_type": "code",
   "execution_count": null,
   "id": "08e7b7cf",
   "metadata": {},
   "outputs": [],
   "source": []
  },
  {
   "cell_type": "markdown",
   "id": "028e5c4a",
   "metadata": {},
   "source": [
    "**4.** Use the sleepstudy data.\n",
    "- Is there a relationship between days and reaction time?"
   ]
  },
  {
   "cell_type": "code",
   "execution_count": null,
   "id": "820bdb3f",
   "metadata": {},
   "outputs": [],
   "source": []
  },
  {
   "cell_type": "markdown",
   "id": "c54693c2",
   "metadata": {},
   "source": [
    "### Comparison of Groups\n",
    "\n",
    "**1.** Answer with the type of stats test you would use (assume normal distribution):\n",
    "\n",
    "- Do students get better test grades if they have a rubber duck on their desk?\n",
    "- Does smoking affect when or not someone has lung cancer?\n",
    "- Is gender independent of a person’s blood type?\n",
    "- A farming company wants to know if a new fertilizer has improved crop yield or not\n",
    "- Does the length of time of the lecture correlate with a students grade?\n",
    "- Do people with dogs live in apartments more than people with cats?"
   ]
  },
  {
   "cell_type": "code",
   "execution_count": null,
   "id": "1dd04173",
   "metadata": {},
   "outputs": [],
   "source": []
  },
  {
   "cell_type": "markdown",
   "id": "836dfa8c",
   "metadata": {},
   "source": [
    "**2.** Use the following contingency table to help answer the question of whether using a macbook and being a codeup student are independent of each other.\n",
    "\n",
    "|                       | Codeup Student | Not Codeup Student |\n",
    "|-----------------------|----------------|-------------------|\n",
    "| Uses a Macbook        |  49            | 20           |\n",
    "| Doesn't Use a Macbook |  1             | 30              |\n"
   ]
  },
  {
   "cell_type": "code",
   "execution_count": null,
   "id": "188b496b",
   "metadata": {},
   "outputs": [],
   "source": []
  },
  {
   "cell_type": "markdown",
   "id": "045870bc",
   "metadata": {},
   "source": [
    "**3.** Choose another 2 categorical variables from the mpg dataset and perform a $chi^2$\n",
    " contingency table test with them. Be sure to state your null and alternative hypotheses."
   ]
  },
  {
   "cell_type": "code",
   "execution_count": null,
   "id": "b6d5e911",
   "metadata": {},
   "outputs": [],
   "source": []
  },
  {
   "cell_type": "markdown",
   "id": "2edc06b6",
   "metadata": {},
   "source": [
    "**4.** Use the data from the employees database to answer these questions:\n",
    "\n",
    "- Is an employee's gender independent of whether an employee works in sales or marketing? (only look at current employees)\n",
    "- Is an employee's gender independent of whether or not they are or have been a manager?"
   ]
  },
  {
   "cell_type": "code",
   "execution_count": null,
   "id": "5c7b0c72",
   "metadata": {},
   "outputs": [],
   "source": []
  },
  {
   "cell_type": "markdown",
   "id": "fe976c12",
   "metadata": {},
   "source": [
    "### More exercises\n",
    "\n",
    "Choose several continous and categorical variables that were not covered in the lesson and perform each type of test on them. You may use another data set if you wish."
   ]
  },
  {
   "cell_type": "code",
   "execution_count": null,
   "id": "3608492a",
   "metadata": {},
   "outputs": [],
   "source": []
  }
 ],
 "metadata": {
  "kernelspec": {
   "display_name": "Python 3 (ipykernel)",
   "language": "python",
   "name": "python3"
  },
  "language_info": {
   "codemirror_mode": {
    "name": "ipython",
    "version": 3
   },
   "file_extension": ".py",
   "mimetype": "text/x-python",
   "name": "python",
   "nbconvert_exporter": "python",
   "pygments_lexer": "ipython3",
   "version": "3.10.9"
  },
  "varInspector": {
   "cols": {
    "lenName": 16,
    "lenType": 16,
    "lenVar": 40
   },
   "kernels_config": {
    "python": {
     "delete_cmd_postfix": "",
     "delete_cmd_prefix": "del ",
     "library": "var_list.py",
     "varRefreshCmd": "print(var_dic_list())"
    },
    "r": {
     "delete_cmd_postfix": ") ",
     "delete_cmd_prefix": "rm(",
     "library": "var_list.r",
     "varRefreshCmd": "cat(var_dic_list()) "
    }
   },
   "types_to_exclude": [
    "module",
    "function",
    "builtin_function_or_method",
    "instance",
    "_Feature"
   ],
   "window_display": false
  }
 },
 "nbformat": 4,
 "nbformat_minor": 5
}
